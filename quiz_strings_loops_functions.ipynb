{
 "cells": [
  {
   "cell_type": "markdown",
   "metadata": {},
   "source": [
    "<table border=\"0\" align=\"left\" width=\"700\" height=\"144\">\n",
    "<tbody>\n",
    "<tr>\n",
    "<td width=\"120\"><img width=\"100\" src=\"https://static1.squarespace.com/static/5992c2c7a803bb8283297efe/t/59c803110abd04d34ca9a1f0/1530629279239/\" /></td>\n",
    "<td style=\"width: 600px; height: 67px;\">\n",
    "<h1 style=\"text-align: left;\">Quiz: Strings, Loops, Lists, Functions</h1>\n",
    "<p><a href=\"https://colab.research.google.com/github/KenzieAcademy/python-notebooks/blob/master/quiz_strings_loops_functions.ipynb\"> <img src=\"https://colab.research.google.com/assets/colab-badge.svg\" alt=\"Open In Colab\" align=\"left\" width=\"188\" height=\"32\" /> </a></p>\n",
    "</td>\n",
    "</tr>\n",
    "</tbody>\n",
    "</table>"
   ]
  },
  {
   "cell_type": "markdown",
   "metadata": {},
   "source": [
    "This quiz will cover the following topics:\n",
    " - loops\n",
    " - python operators\n",
    " - functions (range, input)\n",
    " - list comprehensions\n",
    "\n",
    " \n",
    "## Complete the tasks below\n",
    "### Use SHIFT+ENTER to move advance and run the code cells.\n",
    "### Use print() statements in your code cells to output your results."
   ]
  },
  {
   "cell_type": "markdown",
   "metadata": {},
   "source": [
    "### Task 1\n",
    "Use a for-loop and indexing to print out only the words that start with letter `s` (uppercase and lowercase) in this sentence:\n",
    "\n",
    "*\"Superman derives his power from the yellow sun of Earth. Forced under a red sun akin to the red sun of his homeworld, Krypton, or exposed to red sun radiation, Superman rapidly loses his powers, reverting to the stature of a normal human.\"*\n",
    "\n",
    "Your output should look like this:\n",
    "```\n",
    "Superman\n",
    "sun\n",
    "sun\n",
    "sun\n",
    "sun\n",
    "Superman\n",
    "stature```\n"
   ]
  },
  {
   "cell_type": "code",
   "execution_count": null,
   "metadata": {},
   "outputs": [],
   "source": [
    "mystring = \"\"\"\n",
    "    Superman derives his power from the yellow sun of Earth. \n",
    "    Forced under a red sun akin to the red sun of his homeworld, \n",
    "    Krypton, or exposed to red sun radiation, Superman rapidly \n",
    "    loses his powers, reverting to the stature of a normal human.\n",
    "    \"\"\""
   ]
  },
  {
   "cell_type": "code",
   "execution_count": null,
   "metadata": {},
   "outputs": [],
   "source": [
    "# Your Code Here"
   ]
  },
  {
   "cell_type": "markdown",
   "metadata": {},
   "source": [
    "### Task 2\n",
    "Using the same string as previously used, use a for-loop to only print out the words with an even number of characters/letters (including punctuation).\n",
    "```\n",
    "Superman\n",
    "from\n",
    "yellow\n",
    "of\n",
    "Earth.\n",
    "Forced\n",
    "akin\n",
    "to\n",
    "of\n",
    "homeworld,\n",
    "Krypton,\n",
    "or\n",
    "to\n",
    "radiation,\n",
    "Superman\n",
    "to\n",
    "of\n",
    "normal\n",
    "human.\n",
    "```"
   ]
  },
  {
   "cell_type": "code",
   "execution_count": null,
   "metadata": {},
   "outputs": [],
   "source": [
    "# Your Code Here"
   ]
  },
  {
   "cell_type": "markdown",
   "metadata": {},
   "source": [
    "### Task 3\n",
    "Use a list comprehension to create a list of every first letter in `mystring`.\n",
    "```\n",
    "['S', 'd', 'h', 'p', 'f', 't', 'y', 's', 'o', 'E', 'F', 'u', \n",
    "'a', 'r', 's', 'a', 't', 't', 'r', 's', 'o', 'h', 'h', 'K', \n",
    "'o', 'e', 't', 'r', 's', 'r', 'S', 'r', 'l', 'h', 'p', 'r', \n",
    "'t', 't', 's', 'o', 'a', 'n', 'h']\n",
    "```"
   ]
  },
  {
   "cell_type": "code",
   "execution_count": null,
   "metadata": {},
   "outputs": [],
   "source": [
    "# Your Code Here"
   ]
  },
  {
   "cell_type": "markdown",
   "metadata": {},
   "source": [
    "### Task 4\n",
    "Use list comprehension to create a list of all the even numbers from 0 to 10.\n",
    "```\n",
    "[0, 2, 4, 6, 8, 10]\n",
    "```"
   ]
  },
  {
   "cell_type": "code",
   "execution_count": null,
   "metadata": {},
   "outputs": [],
   "source": [
    "# Your Code Here"
   ]
  },
  {
   "cell_type": "markdown",
   "metadata": {},
   "source": [
    "### Task 5\n",
    "Use the range function to create a list of all the even numbers from 0 to 10.\n",
    "```\n",
    "[0, 2, 4, 6, 8, 10]\n",
    "```"
   ]
  },
  {
   "cell_type": "code",
   "execution_count": null,
   "metadata": {},
   "outputs": [],
   "source": [
    "# Your Code Here"
   ]
  },
  {
   "cell_type": "markdown",
   "metadata": {},
   "source": [
    "### Task 6\n",
    "Create a for loop that uses the random library to create a list of 10 random numbers.\n",
    "```\n",
    "Example: [95, 69, 33, 40, 92, 65, 9, 69, 91, 94, 85]\n",
    "```"
   ]
  },
  {
   "cell_type": "code",
   "execution_count": null,
   "metadata": {},
   "outputs": [],
   "source": [
    "import random"
   ]
  },
  {
   "cell_type": "code",
   "execution_count": null,
   "metadata": {},
   "outputs": [],
   "source": [
    "# Your Code Here"
   ]
  },
  {
   "cell_type": "markdown",
   "metadata": {},
   "source": [
    "### Task 7\n",
    "Use list comprehension and the random library to create a list of 10 random numbers\n",
    "```\n",
    "Example: [60, 72, 40, 76, 18, 28, 82, 40, 61, 88, 24]\n",
    "```"
   ]
  },
  {
   "cell_type": "code",
   "execution_count": null,
   "metadata": {},
   "outputs": [],
   "source": [
    "# Your Code Here"
   ]
  },
  {
   "cell_type": "markdown",
   "metadata": {},
   "source": [
    "### Task 8\n",
    "Create a while-loop that will ask the user to input an even number.  Use the built-in python `input()` function.  The while-loop should keep repeating the request until an even integer is entered. You should only need to expect integers to be passed in, \n",
    "if the user provides a string or something else that can't be transformed to an integer with `int()`, then the loop should break with an error.\n",
    "\n",
    "NOTE: When working with while-loops with the `input()` function:\n",
    " - It's very easy to get stuck in an infinite loop, click on Kernel in the top toolbar and select Restart Kernel to fix this.\n",
    " - If you re-run a cell still waiting for an input() it will get stuck with \n",
    " `In [*]` , again select Restart Kernel to fix this.\n",
    "\n",
    "```\n",
    "Please provide an even number: 3\n",
    "Please provide an even number: 5\n",
    "Please provide an even number: 7\n",
    "Please provide an even number: 2\n",
    "Thank you for giving me an even number!\n",
    "```"
   ]
  },
  {
   "cell_type": "code",
   "execution_count": null,
   "metadata": {},
   "outputs": [],
   "source": [
    "# Your Code Here"
   ]
  },
  {
   "cell_type": "markdown",
   "metadata": {},
   "source": [
    "## You have completed the quiz!\n",
    "Export this notebook as a .py file and submit the quiz."
   ]
  }
 ],
 "metadata": {
  "kernelspec": {
   "display_name": "Python 2",
   "language": "python",
   "name": "python2"
  },
  "language_info": {
   "codemirror_mode": {
    "name": "ipython",
    "version": 2
   },
   "file_extension": ".py",
   "mimetype": "text/x-python",
   "name": "python",
   "nbconvert_exporter": "python",
   "pygments_lexer": "ipython2",
   "version": "2.7.16"
  }
 },
 "nbformat": 4,
 "nbformat_minor": 2
}
