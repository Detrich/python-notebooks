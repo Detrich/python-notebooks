{
 "cells": [
  {
   "cell_type": "markdown",
   "metadata": {},
   "source": [
    "<table style=\"float: left;\">\n",
    "<tbody>\n",
    "<tr>\n",
    "<td ><img src=\"https://static1.squarespace.com/static/5992c2c7a803bb8283297efe/t/59c803110abd04d34ca9a1f0/1530629279239/\" alt=\"Kenzie Logo\" width=\"93\" height=\"93\" /></td>\n",
    "<td >\n",
    "<h1>&nbsp;A Brief Tour of Generators&nbsp;</h1>\n",
    "</td>\n",
    "</tr>\n",
    "</tbody>\n",
    "</table>"
   ]
  },
  {
   "attachments": {},
   "cell_type": "markdown",
   "metadata": {},
   "source": [
    "Generators are very easy to implement, but a bit difficult to understand.\n",
    "\n",
    "Generators are used to create _iterators_, but with a different approach. Generators are simple functions which return an _iterable_ set of items, one at a time, in a special way.\n",
    "\n",
    "\n",
    "When an iteration over a set of item starts using the for statement, the generator is run. Once the generator's function code reaches a \"yield\" statement, the generator yields its execution back to the for loop, returning a new value from the set. The generator function can generate as many values (possibly infinite) as it wants, yielding each one in its turn."
   ]
  },
  {
   "cell_type": "markdown",
   "metadata": {},
   "source": [
    "### Iteration Review\n",
    "Before we jump into generators, it may be beneficial to review a bit about iteration in Python.  There is a distinction between an _iterator_ and an object that is _iterable_.  What exactly is an _iterator_ ?\n",
    "\n",
    " - An iterator is an object that allows _iteration_ to be performed on it.\n",
    " - Implements an `__iter__` method\n",
    " - Implements a `__next__` method\n",
    " \n",
    "Iterators are **stateful** which means they are only able to iterate ONCE over a sequence.  After one traversal of a sequence, the iterator is _exhausted_."
   ]
  },
  {
   "cell_type": "markdown",
   "metadata": {},
   "source": [
    "### Generators\n",
    "Generators arrived way back in Python 2.3, from [PEP-255](https://www.python.org/dev/peps/pep-0255/).  This PEP introduced the idea of creating an iterator within a single function by using a single new keyword: `yield`  BUT WAIT you may ask -- \"If iterators must be stateful (so they can know when they are exhausted), how can this be done from a function?\"\n",
    "\n",
    "Well, a GENERATOR allows an ordinary function to store iterator state, AND generate the members of a sequence, one at a time.  This is known as **LAZY EVALUATION**.  The ordinary function is transformed into a generator simply by using the `yield` keyword.  The function does not become a Generator until it is invoked (called).\n",
    "\n",
    "https://docs.python.org/3/glossary.html\n",
    "\n",
    "> **Generator**: A function which returns a generator iterator. It looks like a normal function except that it contains `yield` expressions for producing a series of values usable in a for-loop or that can be retrieved one at a time with the `next()` function.<br>\n",
    "Each `yield` temporarily suspends processing, remembering the location execution state (including local variables and pending try-statements). When the generator iterator resumes, it picks up where it left off (in contrast to functions which start fresh on every invocation).\n",
    "\n",
    "When Python sees a function with a `yield` keyword inside, it treats it differently.\n",
    "\n",
    "Example:\n"
   ]
  },
  {
   "cell_type": "code",
   "execution_count": null,
   "metadata": {},
   "outputs": [],
   "source": [
    "import random\n",
    "\n",
    "students = ['james', 'doug', 'michael', 'jen', 'clint', 'jenny', 'michelle', 'lea', 'PK']\n",
    "def student_spotlight_picker():\n",
    "    \"\"\"returns a new random student name, until all students are exhausted\"\"\"\n",
    "    random.shuffle(students)\n",
    "    print('Shuffled students: ' + str(students))\n",
    "    for student in students:\n",
    "        print(\"Yielding student \" + student)\n",
    "        yield student\n",
    "        "
   ]
  },
  {
   "cell_type": "code",
   "execution_count": null,
   "metadata": {},
   "outputs": [],
   "source": [
    "# Invoke the generator function to get our generator object\n",
    "it = student_spotlight_picker()\n",
    "\n",
    "# WHAT THE HELL IS IT???\n",
    "print(it)\n",
    "print(type(it))\n",
    "\n",
    "# Let's peek under the hood\n",
    "help(it)"
   ]
  },
  {
   "cell_type": "markdown",
   "metadata": {},
   "source": [
    "### IMPORTANT\n",
    "Generators are not executed when they are invoked, only when they are _iterated_ over.  This is an important difference between generators and regular functions.  Python knows the function is a generator, and will return a generator object during invokation, without executing it.\n",
    "\n",
    "After the function produces the generator object, you must iterate that object according to the Python iteration protocol."
   ]
  },
  {
   "cell_type": "code",
   "execution_count": null,
   "metadata": {},
   "outputs": [],
   "source": [
    "# How to use IT?  Just keep callin' it.next()\n",
    "it.next()"
   ]
  },
  {
   "cell_type": "code",
   "execution_count": null,
   "metadata": {},
   "outputs": [],
   "source": [
    "it.next()"
   ]
  },
  {
   "cell_type": "code",
   "execution_count": null,
   "metadata": {},
   "outputs": [],
   "source": [
    "next(it)  # Or you can use the builtin next() function"
   ]
  },
  {
   "cell_type": "markdown",
   "metadata": {},
   "source": [
    "NOTICE that generators _freeze their state_ after a yield statement.  They suspend their state of execution until the next `next()` call. "
   ]
  },
  {
   "cell_type": "code",
   "execution_count": null,
   "metadata": {},
   "outputs": [],
   "source": [
    "# Let's exhaust the rest of them!\n",
    "# The for-loop simply calls .next() until the StopIteration exception is raised and then it terminates.\n",
    "for s in it:\n",
    "    print(s)"
   ]
  },
  {
   "cell_type": "markdown",
   "metadata": {},
   "source": [
    "The `for-loop` was used above, because it follows the Python iteration protocol.  It will continue calling the iterator's `.next()` method until a `StopIteration` exception is raised.\n",
    "\n",
    "Let's try it again, but without a for-loop this time, so we can see the `StopIteration` exception:"
   ]
  },
  {
   "cell_type": "code",
   "execution_count": null,
   "metadata": {},
   "outputs": [],
   "source": [
    "def simple_gen():\n",
    "    seq = [1, 2, 3, 4]\n",
    "    for i in seq:\n",
    "        yield i\n",
    "\n",
    "it = simple_gen()\n",
    "# Looky, no for-loop!\n",
    "print(it.next())\n",
    "print(it.next())\n",
    "print(it.next())\n",
    "print(it.next())\n",
    "# Wait for it ....\n",
    "print(it.next())\n"
   ]
  },
  {
   "cell_type": "markdown",
   "metadata": {},
   "source": [
    "### Generator return statement\n",
    "Any `return` statement within a generator function will raise a `StopIteration` exception"
   ]
  },
  {
   "cell_type": "code",
   "execution_count": null,
   "metadata": {},
   "outputs": [],
   "source": [
    "def simple_gen():\n",
    "    yield 'Michael'\n",
    "    yield 'Jenny'\n",
    "    yield 'Lea'\n",
    "    return  # raises StopIteration!\n",
    "\n",
    "it = simple_gen()\n",
    "print(it.next())\n",
    "print(it.next())\n",
    "print(it.next())\n",
    "print(it.next())"
   ]
  },
  {
   "cell_type": "markdown",
   "metadata": {},
   "source": [
    "### What happens if we use `iter()` on a generator?"
   ]
  },
  {
   "cell_type": "code",
   "execution_count": null,
   "metadata": {},
   "outputs": [],
   "source": [
    "def simple_gen():\n",
    "    yield 'PK'\n",
    "    yield 'Doug'\n",
    "    yield 'James'\n",
    "    return\n",
    "gen = simple_gen()\n",
    "\n",
    "if iter(gen) == gen.__iter__() == gen:\n",
    "    print(\"Same generator object instance!\")\n",
    "    \n",
    "if gen is iter(gen):\n",
    "    print(\"Generator is it's own iterator!\")\n",
    "\n",
    "if id(gen) == id(iter(gen)):\n",
    "    print(\"Stop me when this gets old\")"
   ]
  },
  {
   "cell_type": "markdown",
   "metadata": {},
   "source": [
    "## Excercise\n",
    "In the previous example, we knew all the student names up front.  Could have just written a for-loop to iterate the list itself.  But what if the list is potentially huge?  Like an infinite series of numbers?\n",
    "\n",
    "\n",
    "<img align=left src=\"https://upload.wikimedia.org/math/7/6/f/76f99713cf111eb035d908228c351710.png\" width=200px/>\n",
    "<br clear=left>\n",
    "\n",
    "\n",
    "\n",
    "Write a generator function which returns the Fibonacci series. They are calculated using the following formula: The first two numbers of the series is always equal to 1, and each consecutive number returned is the sum of the last two numbers. Hint: Can you use only two variables in the generator function? Remember that assignments can be done simultaneously...\n",
    "\n"
   ]
  },
  {
   "cell_type": "code",
   "execution_count": null,
   "metadata": {},
   "outputs": [],
   "source": [
    "# fill in this function\n",
    "def fib():\n",
    "    pass\n",
    "\n",
    "# testing code\n",
    "import types\n",
    "# make sure you wrote a generator!\n",
    "assert type(fib()) is types.GeneratorType, \"You did not write a generator function!\"\n",
    "\n",
    "# If you make it here, lets run your fib generator 10 times\n",
    "for i, n in enumerate(fib()):\n",
    "    print(\"fib(%d) = %d\" % (i, n))\n",
    "    if i == 10:\n",
    "        break\n",
    "    "
   ]
  },
  {
   "cell_type": "code",
   "execution_count": null,
   "metadata": {},
   "outputs": [],
   "source": [
    "# Here is one solution (b64)\n",
    "soln = 'CmRlZiBmaWIoKToKICAgIGEsIGIgPSAwLCAxCiAgICB3aGlsZSBUcnVlOiAgICAgICAgICAgICMgRmlyc3QgaXRlcmF0aW9uOgogICAgICAgIHlpZWxkIGEgICAgICAgICAgICAjIHlpZWxkIDAgdG8gc3RhcnQgd2l0aCBhbmQgdGhlbgogICAgICAgIGEsIGIgPSBiLCBhICsgYiAgICAjIGEgd2lsbCBub3cgYmUgMSwgYW5kIGIgd2lsbCBhbHNvIGJlIDEsICgwICsgMSkK'"
   ]
  },
  {
   "cell_type": "markdown",
   "metadata": {},
   "source": [
    "### When should I use a generator?\n",
    "The general rule of thumb is that a generator can replace any function that returns a list.  Look for a function pattern that accumulates something into a list, during a loop.\n",
    "\n",
    "To use a generator instead, just insert a `yield` statement at the point of accumulation.\n",
    "\n",
    "Example:"
   ]
  },
  {
   "cell_type": "code",
   "execution_count": null,
   "metadata": {},
   "outputs": [],
   "source": [
    "# A familiar function to all ...\n",
    "def div_by_5_and_7(max_num):\n",
    "    \"\"\"Returns a list of numbers that are divisible by 5 AND 7\"\"\"\n",
    "    result = []\n",
    "    for n in range(1, max_num + 1):\n",
    "        if not n%5 and not n%7:\n",
    "            result.append(n)\n",
    "    return result\n",
    "\n",
    "div_by_5_and_7(500)"
   ]
  },
  {
   "cell_type": "code",
   "execution_count": null,
   "metadata": {},
   "outputs": [],
   "source": [
    "# Presto Chango\n",
    "def div_by_5_and_7(max_num):\n",
    "    \"\"\"Returns a list of numbers that are divisible by 5 AND 7\"\"\"\n",
    "    for n in range(1, max_num + 1):\n",
    "        if not n%5 and not n%7:\n",
    "            yield n\n",
    "            \n",
    "list(div_by_5_and_7(500))"
   ]
  },
  {
   "cell_type": "markdown",
   "metadata": {},
   "source": [
    "## Real-world example: Database Chunking\n",
    "This function acts as a wrapper around `dbcursor.fetchmany()`.  A business may use very large datasets for analytics or reporting.  If the dataset is larger than the OS system memory, it's not possible to fetch the entire set from a single database read.  However if the data is fetched one row at a time, this imposes a large network time cost."
   ]
  },
  {
   "cell_type": "code",
   "execution_count": null,
   "metadata": {},
   "outputs": [],
   "source": [
    "def fetch_many_wrapper(dbcursor, count=20000):\n",
    "    \"\"\"Fetch data in chunks, instead of one row at a time\"\"\"\n",
    "    done = False\n",
    "    while not done:\n",
    "        items = dbcursor.fetchmany(count)\n",
    "        done = len(items) == 0\n",
    "        if not done:\n",
    "            for item in items:\n",
    "                yield item"
   ]
  },
  {
   "cell_type": "markdown",
   "metadata": {},
   "source": [
    "## Conclusions\n",
    "Python generators are a powerful, but misunderstood tool. They are often treated as too difficult a concept for\n",
    "beginning programmers to learn — creating the illusion that beginners should hold off on learning generators until they are ready.\n",
    "\n",
    "Generators are lazy because they only give us a value when we ask for it. The ultimate result is that generators are incredibly memory efficient, which makes it a perfect candidate for reading and using \"Big Data\" files. Once we ask for the next value of a generator, the old value is discarded. Once we traverse the entire generator, it is also discarded from memory as well.\n",
    "\n",
    "Generators provide for **Lazy evaluation**.  Being lazy is (sometimes) good."
   ]
  },
  {
   "cell_type": "code",
   "execution_count": null,
   "metadata": {},
   "outputs": [],
   "source": []
  }
 ],
 "metadata": {
  "kernelspec": {
   "display_name": "Python 2",
   "language": "python",
   "name": "python2"
  },
  "language_info": {
   "codemirror_mode": {
    "name": "ipython",
    "version": 2
   },
   "file_extension": ".py",
   "mimetype": "text/x-python",
   "name": "python",
   "nbconvert_exporter": "python",
   "pygments_lexer": "ipython2",
   "version": "2.7.15"
  }
 },
 "nbformat": 4,
 "nbformat_minor": 2
}
