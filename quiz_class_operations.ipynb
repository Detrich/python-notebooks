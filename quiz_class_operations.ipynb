{
 "cells": [
  {
   "cell_type": "markdown",
   "metadata": {},
   "source": [
    "<table border=\"0\" align=\"left\" width=\"700\" height=\"144\">\n",
    "<tbody>\n",
    "<tr>\n",
    "<td width=\"120\"><img width=\"100\" src=\"https://static1.squarespace.com/static/5992c2c7a803bb8283297efe/t/59c803110abd04d34ca9a1f0/1530629279239/\" /></td>\n",
    "<td style=\"width: 600px; height: 67px;\">\n",
    "<h1 style=\"text-align: left;\">Class Operations Quiz</h1>\n",
    "<p><a href=\"https://colab.research.google.com/github/KenzieAcademy/python-notebooks/blob/master/quiz_class_operations.ipynb\"> <img src=\"https://colab.research.google.com/assets/colab-badge.svg\" alt=\"Open In Colab\" align=\"left\" width=\"188\" height=\"32\" /> </a></p>\n",
    "</td>\n",
    "</tr>\n",
    "</tbody>\n",
    "</table>"
   ]
  },
  {
   "cell_type": "markdown",
   "metadata": {},
   "source": [
    "These questions are meant to be given to students during whiteboarding for the practice technical interview.  For each question, the student should examine the code snippet and predict what the printed output will be."
   ]
  },
  {
   "cell_type": "markdown",
   "metadata": {},
   "source": [
    "## Q1"
   ]
  },
  {
   "cell_type": "code",
   "execution_count": null,
   "metadata": {
    "scrolled": true
   },
   "outputs": [],
   "source": [
    "class Test:\n",
    "    def __init__(self, a=\"Hello World\"):\n",
    "        self.a = a\n",
    " \n",
    "    def display(self):\n",
    "        print(self.a)\n",
    "            \n",
    "obj = Test()\n",
    "obj.display()"
   ]
  },
  {
   "cell_type": "markdown",
   "metadata": {},
   "source": [
    "## Q2"
   ]
  },
  {
   "cell_type": "code",
   "execution_count": null,
   "metadata": {
    "scrolled": true
   },
   "outputs": [],
   "source": [
    "class Test:\n",
    "    def __init__(self, a):\n",
    "        self.a = a\n",
    " \n",
    "    def display(self):\n",
    "        print(self.a)\n",
    "            \n",
    "obj = Test()\n",
    "obj.display()\n"
   ]
  },
  {
   "cell_type": "markdown",
   "metadata": {},
   "source": [
    "## Q3"
   ]
  },
  {
   "cell_type": "code",
   "execution_count": null,
   "metadata": {
    "scrolled": true
   },
   "outputs": [],
   "source": [
    "class Change:\n",
    "    def __init__(self, x, y, z):\n",
    "        self.a = x + y + z\n",
    " \n",
    "x = Change(1, 2, 3)\n",
    "y = getattr(x, 'a')\n",
    "setattr(x, 'a', y + 1)\n",
    "print(x.a)"
   ]
  },
  {
   "cell_type": "markdown",
   "metadata": {},
   "source": [
    "## Q4"
   ]
  },
  {
   "cell_type": "code",
   "execution_count": null,
   "metadata": {
    "scrolled": true
   },
   "outputs": [],
   "source": [
    "class Test:\n",
    "    def __init__(self):\n",
    "        self.variable = 'Old'\n",
    "        self.change(self.variable)\n",
    "        \n",
    "    def change(self, variable):\n",
    "        variable = 'New'\n",
    "        \n",
    "obj = Test()\n",
    "print(obj.variable)\n"
   ]
  },
  {
   "cell_type": "markdown",
   "metadata": {},
   "source": [
    "## Q5"
   ]
  },
  {
   "cell_type": "code",
   "execution_count": null,
   "metadata": {
    "scrolled": true
   },
   "outputs": [],
   "source": [
    "class Fruits:\n",
    "    def __init__(self, price):\n",
    "        self.price = price\n",
    "\n",
    "obj = Fruits(50)\n",
    "obj.quantity = 10\n",
    "obj.bags = 2\n",
    " \n",
    "print(obj.quantity + len(obj.__dict__))\n"
   ]
  },
  {
   "cell_type": "markdown",
   "metadata": {},
   "source": [
    "## Q6"
   ]
  },
  {
   "cell_type": "code",
   "execution_count": null,
   "metadata": {
    "scrolled": true
   },
   "outputs": [],
   "source": [
    "class Student:\n",
    "    \"\"\"Base class for all students\"\"\"\n",
    "    def __init__(self, roll_no, grade):\n",
    "        self.roll_no = roll_no\n",
    "        self.grade = grade\n",
    "        \n",
    "    def display(self):\n",
    "        print(\"Roll no : \", self.roll_no,  \", Grade: \", self.grade)\n",
    "\n",
    "print(Student(\"12497\", \"B+\").__doc__)"
   ]
  },
  {
   "cell_type": "markdown",
   "metadata": {},
   "source": [
    "## Congratulations, you are a class act!"
   ]
  }
 ],
 "metadata": {
  "kernelspec": {
   "display_name": "py35-test",
   "language": "python",
   "name": "py35-test"
  },
  "language_info": {
   "codemirror_mode": {
    "name": "ipython",
    "version": 3
   },
   "file_extension": ".py",
   "mimetype": "text/x-python",
   "name": "python",
   "nbconvert_exporter": "python",
   "pygments_lexer": "ipython3",
   "version": "3.5.5"
  }
 },
 "nbformat": 4,
 "nbformat_minor": 2
}
