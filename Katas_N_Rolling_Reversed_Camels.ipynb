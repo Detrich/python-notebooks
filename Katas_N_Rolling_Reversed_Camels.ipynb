{
 "cells": [
  {
   "cell_type": "markdown",
   "metadata": {},
   "source": [
    "\n",
    "<table align=left>\n",
    "<tbody>\n",
    "<tr>\n",
    "<td ><img src=\"https://static1.squarespace.com/static/5992c2c7a803bb8283297efe/t/59c803110abd04d34ca9a1f0/1530629279239/\" alt=\"Kenzie Logo\" width=\"93\" height=\"93\" /></td>\n",
    "<td >\n",
    "<h1>&nbsp;N Rolling Reversed Camels&nbsp;</h1>\n",
    "</td>\n",
    "    <td>\n",
    "    <a href=\"https://colab.research.google.com/github/KenzieAcademy/python-notebooks/blob/master/Katas_N_Rolling_Reversed_Camels.ipynb\"> <img src=\"https://colab.research.google.com/assets/colab-badge.svg\" alt=\"Open In Colab\" width=\"150\" /> </a>\n",
    "    </td>\n",
    "</tr>\n",
    "</tbody>\n",
    "</table>"
   ]
  },
  {
   "cell_type": "markdown",
   "metadata": {},
   "source": [
    "This is a set of four string practice katas\n",
    "1. The Case of the Camel\n",
    "2. Find the Nth Occurance\n",
    "3. Keep on Rollin'\n",
    "4. Reverse the Words\n",
    "\n",
    "## TDD == Test Driven Development\n",
    "These katas also introduce you to the software engineering concept of **TDD**.\n",
    " - Start with a collection of tests that are all failing.\n",
    " - Switch off between editing your function, and testing it.\n",
    " - As you develop the function, more tests will pass."
   ]
  },
  {
   "cell_type": "markdown",
   "metadata": {},
   "source": [
    "## Instructions\n",
    "\n",
    "**Use SHIFT+ENTER to run each cell.**\n",
    "These exercises use a tool called Juptyer Notebook. Here are some quick guidelines:\n",
    "\n",
    "- Each block of python code is called a cell.\n",
    "- You are running an actual python program, cell-by-cell.\n",
    "- You can edit and re-run the code cells in place without overwriting the original notebook.\n",
    "- Don't worry about the In [x]: or Out [y]: notations on the left margin.\n",
    "- Variables are remembered between cells.\n",
    "- Don't worry about formatting your output to print everything on a single line.\n",
    "\n",
    "\n",
    "## Submitting your work\n",
    "- Add your python code into each cell to complete the kata.\n",
    "- Select **File -> Download as -> Python (.py)** and save to your local machine.\n",
    "- Submit your .py file into the assignment upload window.\n",
    "- Bonus Pts: Try the same exercises using List Comprehensions. Submit a second .py file.\n",
    "\n"
   ]
  },
  {
   "cell_type": "code",
   "execution_count": null,
   "metadata": {},
   "outputs": [],
   "source": [
    "# First, let us define a simple test \"harness\" to be used in all 4 katas.\n",
    "def run_test(got, expected):\n",
    "    if got != expected:\n",
    "        print(\"Test result: BOO -- Expected '{}' but got '{}'\".format(expected, got))\n",
    "    else:\n",
    "        print(\"Test result: YAY\")"
   ]
  },
  {
   "cell_type": "markdown",
   "metadata": {},
   "source": [
    "### Let us begin.."
   ]
  },
  {
   "cell_type": "markdown",
   "metadata": {},
   "source": [
    "### 1. The case of the Camel\n",
    "Create a method/function so that it converts dash/underscore delimited words into camel casing. The first word within the output should be capitalized only if the original word was capitalized.\n",
    "Examples:\n",
    "```\n",
    "to_camel_case(\"the-stealth-warrior\") # returns \"theStealthWarrior\"\n",
    "to_camel_case(\"The_Stealth_Warrior\") # returns \"TheStealthWarrior\"\n",
    "```"
   ]
  },
  {
   "cell_type": "code",
   "execution_count": null,
   "metadata": {},
   "outputs": [],
   "source": [
    "def to_camel_case(s):\n",
    "    pass # Your code here"
   ]
  },
  {
   "cell_type": "code",
   "execution_count": null,
   "metadata": {},
   "outputs": [],
   "source": [
    "# Test functions\n",
    "run_test(to_camel_case(\"the-stealth-warrior\"), \"theStealthWarrior\")\n",
    "run_test(to_camel_case(\"The_Stealth_Warrior\"), \"TheStealthWarrior\")"
   ]
  },
  {
   "cell_type": "markdown",
   "metadata": {},
   "source": [
    "### 2. Find the nth occurence\n",
    "Implement a function `find_nth_occurrence` that returns the index of the nth occurrence of a substring within a string (considering that those substring could overlap each other). If there are less than n occurrences of the substring, return -1.\n",
    "Example:\n",
    "```\n",
    "string = \"This is an example. Return the nth occurrence of example in this example string.\"\n",
    "find_nth_occurrence(\"example\", string, 1) == 11\n",
    "find_nth_occurrence(\"example\", string, 2) == 49\n",
    "find_nth_occurrence(\"example\", string, 3) == 65\n",
    "find_nth_occurrence(\"example\", string, 4) == -1\n",
    "```\n",
    "Multiple occurrences are allowed to overlap, e.g.\n",
    "```\n",
    "find_nth_occurrence(\"TestTest\", \"TestTestTestTest\", 1) == 0\n",
    "find_nth_occurrence(\"TestTest\", \"TestTestTestTest\", 2) == 4\n",
    "find_nth_occurrence(\"TestTest\", \"TestTestTestTest\", 3) == 8\n",
    "find_nth_occurrence(\"TestTest\", \"TestTestTestTest\", 4) == -1\n",
    "```"
   ]
  },
  {
   "cell_type": "code",
   "execution_count": null,
   "metadata": {},
   "outputs": [],
   "source": [
    "def find_nth_occurrence(sub, string, n):\n",
    "    pass # Your code here"
   ]
  },
  {
   "cell_type": "code",
   "execution_count": null,
   "metadata": {},
   "outputs": [],
   "source": [
    "# Test functions\n",
    "string = \"This is an example. Return the nth occurrence of example in this example string.\"\n",
    "run_test(find_nth_occurrence(\"example\", string, 1) , 11)\n",
    "run_test(find_nth_occurrence(\"example\", string, 2) , 49)\n",
    "run_test(find_nth_occurrence(\"example\", string, 3) , 65)\n",
    "run_test(find_nth_occurrence(\"example\", string, 4) , -1)\n",
    "run_test(find_nth_occurrence(\"TestTest\", \"TestTestTestTest\", 1), 0)\n",
    "run_test(find_nth_occurrence(\"TestTest\", \"TestTestTestTest\", 2), 4)\n",
    "run_test(find_nth_occurrence(\"TestTest\", \"TestTestTestTest\", 3), 8)\n",
    "run_test(find_nth_occurrence(\"TestTest\", \"TestTestTestTest\", 4), -1)"
   ]
  },
  {
   "cell_type": "markdown",
   "metadata": {},
   "source": [
    "### 3. Keep on Rollin'\n",
    "Your beater car can't take another Indiana winter. The shock absorbers are gone and you think it can handle about 15 more potholes before it's wrecked.\n",
    "\n",
    "Unfortunately for you, your drive is very bumpy! Given a string showing either flat road (\"_\") or bumps (\"n\"), work out if you make it home safely. 15 bumps or under, return \"Woohoo!\", over 15 bumps return \"Car Dead\".\n",
    "\n",
    "Write a function named `road_test` that will examine a road condition string and return the prediction.\n",
    "Example tests:\n",
    "```\n",
    "road_test(\"n\") ==> \"Woohoo!\"\n",
    "road_test(\"_nnnnnnn_n__n______nn__nn_nnn\") ==> \"Car Dead\"\n",
    "road_test(\"______n___n_\") ==> \"Woohoo!\"\n",
    "```"
   ]
  },
  {
   "cell_type": "code",
   "execution_count": null,
   "metadata": {},
   "outputs": [],
   "source": [
    "def road_test(s):\n",
    "    pass # Your code here"
   ]
  },
  {
   "cell_type": "code",
   "execution_count": null,
   "metadata": {},
   "outputs": [],
   "source": [
    "# Test functions\n",
    "run_test(road_test(\"n\"), \"Woohoo!\")\n",
    "run_test(road_test(\"_nnnnnnn_n__n______nn__nn_nnn\"), \"Car Dead\")\n",
    "run_test(road_test(\"______n___n_\"), \"Woohoo!\")"
   ]
  },
  {
   "cell_type": "markdown",
   "metadata": {},
   "source": [
    "### 4. Reverse the words\n",
    "Create a function that accepts a string parameter, and reverses each word in the string. All spaces in the string should be retained.\n",
    "\n",
    "Examples\n",
    "```\n",
    "\"This is an example!\" ==> \"sihT si na !elpmaxe\"\n",
    "\"double  spaces\"      ==> \"elbuod  secaps\"\n",
    "```"
   ]
  },
  {
   "cell_type": "code",
   "execution_count": null,
   "metadata": {},
   "outputs": [],
   "source": [
    "def reverse_words(sentence):\n",
    "    pass # Your code here"
   ]
  },
  {
   "cell_type": "code",
   "execution_count": null,
   "metadata": {},
   "outputs": [],
   "source": [
    "# Test functions\n",
    "run_test(reverse_words(\"This is an example!\"), \"sihT si na !elpmaxe\")\n",
    "run_test(reverse_words(\"double  spaces\"), \"elbuod  secaps\")\n",
    "run_test(reverse_words(\"big       spaces\"), \"gib       secaps\")"
   ]
  },
  {
   "cell_type": "markdown",
   "metadata": {},
   "source": [
    "## NICE JOB!  You are done ... Download/save this notebook as a .py file and submit!"
   ]
  }
 ],
 "metadata": {
  "kernelspec": {
   "display_name": "Python 2",
   "language": "python",
   "name": "python2"
  },
  "language_info": {
   "codemirror_mode": {
    "name": "ipython",
    "version": 2
   },
   "file_extension": ".py",
   "mimetype": "text/x-python",
   "name": "python",
   "nbconvert_exporter": "python",
   "pygments_lexer": "ipython2",
   "version": "2.7.15"
  }
 },
 "nbformat": 4,
 "nbformat_minor": 2
}
