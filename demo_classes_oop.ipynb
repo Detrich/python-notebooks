{
 "cells": [
  {
   "cell_type": "markdown",
   "metadata": {},
   "source": [
    "<table style=\"float: left;\">\n",
    "<tbody>\n",
    "<tr>\n",
    "<td ><img src=\"https://static1.squarespace.com/static/5992c2c7a803bb8283297efe/t/59c803110abd04d34ca9a1f0/1530629279239/\" alt=\"Kenzie Logo\" width=\"93\" height=\"93\" /></td>\n",
    "<td >\n",
    "<h1>&nbsp;Intro to classes and OOP&nbsp;</h1>\n",
    "</td>\n",
    "</tr>\n",
    "</tbody>\n",
    "</table>"
   ]
  },
  {
   "cell_type": "markdown",
   "metadata": {},
   "source": [
    "<p style=\"float:left\"><a href=\"https://colab.research.google.com/github/KenzieAcademy/python-notebooks/blob/master/demo_classes_oop.ipynb\"> <img src=\"https://colab.research.google.com/assets/colab-badge.svg\" alt=\"Open In Colab\" width=\"188\" height=\"32\" /> </a>\n",
    "</p>"
   ]
  },
  {
   "cell_type": "markdown",
   "metadata": {},
   "source": [
    "### What Is Object-Oriented Programming (OOP)?\n",
    "\n",
    "Object-oriented Programming, or **OOP** for short, is a programming _paradigm_ which provides a means of structuring programs so that properties and behaviors are bundled into individual objects.\n",
    "\n",
    "### Example Objects\n",
    "\n",
    "Person: \n",
    " - Properties -> Name, Age, Address\n",
    " - Behaviors -> Running, Sleeping, Talking\n",
    "\n",
    "Email:\n",
    " - Properties -> Recipient list, Subject, Body, From\n",
    " - Behaviors -> Send, Add Attachment\n",
    "\n",
    "OOP models real-world entities as software objects, which have some data associated with them and can perform certain functions.\n",
    "\n",
    "The key takeaway is that objects are at the center of the object-oriented programming paradigm, not only representing the data, as in procedural programming, but in the overall structure of the program as well.\n"
   ]
  },
  {
   "cell_type": "code",
   "execution_count": null,
   "metadata": {},
   "outputs": [],
   "source": []
  },
  {
   "cell_type": "markdown",
   "metadata": {},
   "source": [
    "## Python Objects (Instances)\n",
    "\n",
    "Classes are used to create new user-defined data structures that contain arbitrary information about something.\n",
    "While the class is the blueprint, an instance is a copy of the class with actual values, literally an object belonging to a specific class. It’s not an idea anymore; it’s an actual animal, like a dog named Roger who’s eight years old.\n",
    "\n",
    "Put another way, a class is like a form or questionnaire. It defines the needed information. After you fill out the form, your specific copy is an instance of the class; it contains actual information relevant to you.\n",
    "\n",
    "You can fill out multiple copies to create many different instances, but without the form as a guide, you would be lost, not knowing what information is required. Thus, before you can create individual instances of an object, we must first specify what is needed by defining a class."
   ]
  },
  {
   "cell_type": "code",
   "execution_count": null,
   "metadata": {},
   "outputs": [],
   "source": [
    "# Python 3 class - implicitly inherits from `object`\n",
    "class Dog:\n",
    "    pass"
   ]
  },
  {
   "cell_type": "code",
   "execution_count": null,
   "metadata": {},
   "outputs": [],
   "source": [
    "# Python 2 class - need to specify inheritance from `object`\n",
    "class Dog(object):\n",
    "    pass"
   ]
  },
  {
   "cell_type": "code",
   "execution_count": null,
   "metadata": {},
   "outputs": [],
   "source": [
    "# What is an object?\n",
    "dir(object)"
   ]
  },
  {
   "cell_type": "markdown",
   "metadata": {},
   "source": [
    "## Instance Attributes\n",
    "All classes create objects, and all objects contain characteristics called attributes (referred to as properties in the opening paragraph). Use the __init__() method to initialize (e.g., specify) an object’s initial attributes by giving them their default value (or state). This method must have at least one argument as well as the self variable, which refers to the object itself (e.g., Dog)."
   ]
  },
  {
   "cell_type": "code",
   "execution_count": null,
   "metadata": {},
   "outputs": [],
   "source": [
    "class Dog:\n",
    "\n",
    "    # Initializer / Instance Attributes\n",
    "    def __init__(self, name, age):\n",
    "        self.name = name\n",
    "        self.age = age"
   ]
  },
  {
   "cell_type": "markdown",
   "metadata": {},
   "source": [
    "Remember: the class is just for **defining** the Dog, not actually creating instances of individual dogs with specific names and ages"
   ]
  },
  {
   "cell_type": "markdown",
   "metadata": {},
   "source": [
    "## Class Attributes\n",
    "While instance attributes are specific to each object, class attributes are the same for all instances—which in this case is all dogs."
   ]
  },
  {
   "cell_type": "code",
   "execution_count": null,
   "metadata": {},
   "outputs": [],
   "source": [
    "class Dog:\n",
    "\n",
    "    # Class Attribute\n",
    "    species = 'mammal'\n",
    "\n",
    "    # Initializer / Instance Attributes\n",
    "    def __init__(self, name, age):\n",
    "        self.name = name\n",
    "        self.age = age"
   ]
  },
  {
   "cell_type": "markdown",
   "metadata": {},
   "source": [
    "## Instantiating Objects\n",
    "Instantiating is a fancy term for creating a new, unique instance of a class.  OK Let's create some doggies!\n",
    "\n",
    "<img align=left width=200 src=\"https://www.rd.com/wp-content/uploads/2018/02/0_Adorable-Puppy-Pictures-that-Will-Make-You-Melt_516537724_ch_ch_FT.jpg\" /><br>"
   ]
  },
  {
   "cell_type": "code",
   "execution_count": null,
   "metadata": {},
   "outputs": [],
   "source": [
    "# What happens if we forget init params?\n",
    "d = Dog()"
   ]
  },
  {
   "cell_type": "code",
   "execution_count": null,
   "metadata": {},
   "outputs": [],
   "source": [
    "# Instantiate!\n",
    "daisy = Dog('Daisy', 2)\n",
    "benji = Dog('Benji', 0)"
   ]
  },
  {
   "cell_type": "code",
   "execution_count": null,
   "metadata": {},
   "outputs": [],
   "source": [
    "# Access the instance attributes\n",
    "print(\"{} is {} and {} is {}.\".format(\n",
    "    daisy.name, daisy.age, benji.name, benji.age))\n",
    "\n",
    "# Is Daisy a mammal?\n",
    "if daisy.species == \"mammal\":\n",
    "    print(\"{0} is a {1}!\".format(daisy.name, daisy.species))"
   ]
  },
  {
   "cell_type": "markdown",
   "metadata": {},
   "source": [
    "## Exercise\n",
    "Using the same Dog class, instantiate three new dogs, each with a different age. Then write a function called, get_oldest_dog(), that takes any number of ages (*args) and returns the oldest one. Then output the age of the oldest dog like so:  `The oldest dog is 7 years old.`"
   ]
  },
  {
   "cell_type": "code",
   "execution_count": null,
   "metadata": {},
   "outputs": [],
   "source": [
    "# Three Doggies coming right up:\n",
    "\n",
    "# Create dog-age function ... human or dog years?\n",
    "def get_oldest_dog(*args):\n",
    "    pass\n"
   ]
  },
  {
   "cell_type": "markdown",
   "metadata": {},
   "source": [
    "## Instance Methods (not instance attributes)\n",
    "Instance methods are defined inside a class and are used to get the contents of an instance. They can also be used to perform operations with the attributes of our objects. Like the `__init__` method, the first argument is always **self**:"
   ]
  },
  {
   "cell_type": "code",
   "execution_count": null,
   "metadata": {},
   "outputs": [],
   "source": [
    "class Dog:\n",
    "\n",
    "    # Class Attribute\n",
    "    species = 'mammal'\n",
    "\n",
    "    # Initializer / Instance Attributes\n",
    "    def __init__(self, name, age):\n",
    "        self.name = name\n",
    "        self.age = age\n",
    "\n",
    "    # instance method\n",
    "    def description(self):\n",
    "        return \"{} is {} years old\".format(self.name, self.age)\n",
    "\n",
    "    # instance method\n",
    "    def speak(self, sound):\n",
    "        return \"{} says {}\".format(self.name, sound)\n",
    "    \n",
    "    # What other behaviors could you assign to a dog?\n",
    "    \n",
    "    # Can methods alter attributes?\n",
    "    #def change_species(new_species):\n",
    "    #    pass\n",
    "\n",
    "# Instantiate the Dog object\n",
    "lexi = Dog(\"Lexi\", 9)\n",
    "\n",
    "# call our instance methods\n",
    "print(lexi.description())\n",
    "print(lexi.speak(\"BUFF\"))\n"
   ]
  },
  {
   "cell_type": "markdown",
   "metadata": {},
   "source": [
    "## Object Inheritance\n",
    "Inheritance is the process by which one class takes on the attributes and methods of another. Newly formed classes are called **child** classes, and the classes that child classes are derived from are called **parent** classes.\n",
    "\n",
    "It’s important to note that child classes override or extend the functionality (e.g., attributes and behaviors) of parent classes. In other words, child classes inherit all of the parent’s attributes and behaviors but can also specify different behavior to follow. The most basic type of class is an object, which generally all other classes inherit as their parent.\n",
    "\n",
    "## Extending the Functionality of a Parent Class\n",
    "Let's continue using the Dog class.  What’s another way to differentiate one dog from another?\n"
   ]
  },
  {
   "cell_type": "code",
   "execution_count": null,
   "metadata": {},
   "outputs": [],
   "source": [
    "from IPython.display import Image, display\n",
    "\n",
    "# Parent class\n",
    "class Dog:\n",
    "\n",
    "    # Class attribute\n",
    "    species = 'mammal'\n",
    "\n",
    "    # Initializer / Instance attributes\n",
    "    def __init__(self, name, age):\n",
    "        self.name = name\n",
    "        self.age = age\n",
    "\n",
    "    # instance method\n",
    "    def description(self):\n",
    "        return \"{} is {} years old\".format(self.name, self.age)\n",
    "\n",
    "    # instance method\n",
    "    def speak(self):\n",
    "        return \"{} says GENERIC WOOF\".format(self.name)\n",
    "\n",
    "\n",
    "# Child class (inherits from Dog class)\n",
    "class Cockapoo(Dog):\n",
    "    def poop(self, sz):\n",
    "        url = 'https://thedogtrainingsecret.com/blog/wp-content/uploads/2012/08/potty-1.jpg'\n",
    "        display(Image(url, width=200, height=200))\n",
    "        return \"{} poops {}\".format(self.name, sz)\n",
    "\n",
    "\n",
    "# Child class (inherits from Dog class)\n",
    "class GreatDane(Dog):\n",
    "    def poop(self, sz):\n",
    "        url = 'https://i.ytimg.com/vi/8L7ElKtTNVs/hqdefault.jpg'\n",
    "        display(Image(url, width=200, height=200))\n",
    "        return \"{} poops {}\".format(self.name, sz)\n",
    "    \n"
   ]
  },
  {
   "cell_type": "code",
   "execution_count": null,
   "metadata": {},
   "outputs": [],
   "source": [
    "# create a Lexi instance\n",
    "lexi = Cockapoo('Lexi', 9)\n",
    "lexi.poop('dainty')"
   ]
  },
  {
   "cell_type": "code",
   "execution_count": null,
   "metadata": {},
   "outputs": [],
   "source": [
    "# Make a bigger dog!\n",
    "marmaduke = GreatDane('Marmaduke', 5)\n",
    "marmaduke.poop('gigrontous')"
   ]
  },
  {
   "cell_type": "markdown",
   "metadata": {},
   "source": [
    "## Parent or Child?\n",
    "The `isinstance()` function is used to determine if an instance is also an instance of a certain parent class.\n"
   ]
  },
  {
   "cell_type": "code",
   "execution_count": null,
   "metadata": {},
   "outputs": [],
   "source": [
    "# is lexi an instance of a Dog?\n",
    "isinstance(lexi, Dog)"
   ]
  },
  {
   "cell_type": "code",
   "execution_count": null,
   "metadata": {},
   "outputs": [],
   "source": [
    "# How about marmaduke?\n",
    "isinstance(marmaduke, Dog)"
   ]
  },
  {
   "cell_type": "code",
   "execution_count": null,
   "metadata": {},
   "outputs": [],
   "source": [
    "# is lexi a cockapoo?\n",
    "isinstance(lexi, Cockapoo)"
   ]
  },
  {
   "cell_type": "code",
   "execution_count": null,
   "metadata": {},
   "outputs": [],
   "source": [
    "# is lexi a Great Dane?\n",
    "isinstance(lexi, GreatDane)"
   ]
  },
  {
   "cell_type": "markdown",
   "metadata": {},
   "source": [
    "## Overriding the Functionality of a Parent Class\n",
    "Child classes can also override attributes and behaviors from the parent class"
   ]
  },
  {
   "cell_type": "code",
   "execution_count": null,
   "metadata": {},
   "outputs": [],
   "source": [
    "# Child class (inherits from Dog class)\n",
    "class Cockapoo(Dog):\n",
    "    def poop(self, sz):\n",
    "        url = 'https://thedogtrainingsecret.com/blog/wp-content/uploads/2012/08/potty-1.jpg'\n",
    "        display(Image(url, width=200, height=200))\n",
    "        return \"{} poops {}\".format(self.name, sz)\n",
    "    \n",
    "#     def speak(self):\n",
    "#         return \"{} says BUFF\".format(self.name)"
   ]
  },
  {
   "cell_type": "code",
   "execution_count": null,
   "metadata": {},
   "outputs": [],
   "source": [
    "lexi = Cockapoo('Lexi', 9)\n",
    "lexi.speak()"
   ]
  },
  {
   "cell_type": "markdown",
   "metadata": {},
   "source": [
    "## Exercise 1\n",
    "Create a `Pets` class that contains instances of dogs; this class is completely separate from the Dog class. In other words, the Dog class does not inherit from the Pets class. Then assign three dog instances to an instance of the Pets class.  Output should look like this:\n",
    "\n",
    "    I have 3 dogs.\n",
    "    Rufus is 6.\n",
    "    Daisy is 7. \n",
    "    Milo is 9. \n",
    "    And they're all mammals, of course."
   ]
  },
  {
   "cell_type": "code",
   "execution_count": null,
   "metadata": {},
   "outputs": [],
   "source": [
    "class Pets:\n",
    "    pass"
   ]
  },
  {
   "cell_type": "markdown",
   "metadata": {},
   "source": [
    "## Exercise 2\n",
    " - Add an instance attribute of `is_hungry = True` to the Dog class. \n",
    " - Add a method called `eat()` which changes the value of `is_hungry` to False when called. Figure out the best way to feed each dog.\n",
    " - Output “My dogs are hungry!” if all are hungry or “My dogs are not hungry.” if all are not hungry. The final output should look like this:"
   ]
  },
  {
   "cell_type": "code",
   "execution_count": null,
   "metadata": {},
   "outputs": [],
   "source": [
    "# Your code here"
   ]
  },
  {
   "cell_type": "markdown",
   "metadata": {},
   "source": [
    "## Checkup\n",
    "    What’s a class?\n",
    "    What’s an instance?\n",
    "    What’s the relationship between a class and an instance?\n",
    "    What’s the Python syntax used for defining a new class?\n",
    "    What’s the spelling convention for a class name?\n",
    "    How do you instantiate, or create an instance of, a class?\n",
    "    How do you access the attributes and behaviors of a class instance?\n",
    "    What’s a method?\n",
    "    What’s the purpose of self?\n",
    "    What’s the purpose of the `__init__` method?\n",
    "    Describe how inheritance helps prevent code duplication.\n",
    "    Can child classes override properties of their parents?"
   ]
  },
  {
   "cell_type": "markdown",
   "metadata": {},
   "source": [
    "## Super Brain Buster\n",
    "Using a class, create a function that will add numbers together when called in succession.\n",
    "    \n",
    "    add(1)(2);\n",
    "    // returns 3\n",
    "\n",
    "We also want to be able to continue to add numbers to our chain.\n",
    "\n",
    "    add(1)(2)(3); // 6\n",
    "    add(1)(2)(3)(4); // 10\n",
    "    add(1)(2)(3)(4)(5); // 15\n",
    "    \n",
    "A single call should return the number passed in.\n",
    "\n",
    "    add(1); // 1\n",
    "    \n",
    "We should be able to store the returned values and reuse them.\n",
    "\n",
    "    var addTwo = add(2);\n",
    "    addTwo; // 2\n",
    "    addTwo + 5; // 7\n",
    "    addTwo(3); // 5\n",
    "    addTwo(3)(5); // 10\n",
    "    \n",
    "Assume any number being passed in will be valid whole number.\n",
    "\n",
    "HINT: Investigate the [`__call__` ](https://stackoverflow.com/questions/9663562/what-is-the-difference-between-init-and-call) magic dunder method .. and YES you can inherit a child class from `int` !"
   ]
  },
  {
   "cell_type": "code",
   "execution_count": null,
   "metadata": {},
   "outputs": [],
   "source": [
    "# Your class here"
   ]
  },
  {
   "cell_type": "markdown",
   "metadata": {},
   "source": [
    "## Conclusion\n",
    "You should now know what classes are, why you would want or need to use them, and how to create both parent and child classes to better structure your programs.\n",
    "\n",
    "Please be aware that OOP is a _programming paradigm_ and not a Python concept. Most of the modern programming languages such as Java, C#, C++ follow OOP principles.\n"
   ]
  },
  {
   "cell_type": "code",
   "execution_count": null,
   "metadata": {},
   "outputs": [],
   "source": []
  }
 ],
 "metadata": {
  "kernelspec": {
   "display_name": "ncaa_3.6",
   "language": "python",
   "name": "ncaa_3.6"
  },
  "language_info": {
   "codemirror_mode": {
    "name": "ipython",
    "version": 3
   },
   "file_extension": ".py",
   "mimetype": "text/x-python",
   "name": "python",
   "nbconvert_exporter": "python",
   "pygments_lexer": "ipython3",
   "version": "3.6.5"
  }
 },
 "nbformat": 4,
 "nbformat_minor": 2
}
