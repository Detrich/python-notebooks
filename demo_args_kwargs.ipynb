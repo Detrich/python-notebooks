{
 "cells": [
  {
   "cell_type": "markdown",
   "metadata": {},
   "source": [
    "<img align=\"left\" width=\"100\" src=\"http://safetysafe.net/wp-content/uploads/2017/06/2-441x381.png\"/><br><br><br>\n",
    "\n",
    "## Horsing around with *args and **kwargs: how do they work?"
   ]
  },
  {
   "cell_type": "code",
   "execution_count": null,
   "metadata": {},
   "outputs": [],
   "source": [
    "some_args = 1,2,3,4\n",
    "some_args"
   ]
  },
  {
   "cell_type": "code",
   "execution_count": null,
   "metadata": {},
   "outputs": [],
   "source": [
    "# a simple function, just print the stuff.\n",
    "def my_function(*args):\n",
    "    # how to access args?\n",
    "    print(\"These are ALL the args: {}\".format(args))\n",
    "    \n",
    "    # what is the 'type' of args? Should be a tuple.\n",
    "    # We cannot ask for the 'type' of *args, because that would\n",
    "    # unpack it into multiple things and we can only query one type() at a time.\n",
    "    print(type(args))\n",
    "    \n",
    "    # We can do some selective unpacking directly in this print statement.\n",
    "    # It will only unpack enough (from left to right) to satisfy\n",
    "    # the number of curly brackets\n",
    "    print(\"Here are SOME (but not all) *args: {} {}\".format(*args))\n",
    "    \n",
    "    # We can also iterate through the args:\n",
    "    print(\"Iterating through args ...\")\n",
    "    for a in args:\n",
    "        print(a)\n",
    "        \n",
    "    # We can directly unpack them into individual variables-- but\n",
    "    # the unpacking variable count has to match the len of the tuple.\n",
    "    # Try removing one of the variables.\n",
    "    a, b, c, d, e = args\n",
    "    "
   ]
  },
  {
   "cell_type": "code",
   "execution_count": null,
   "metadata": {},
   "outputs": [],
   "source": [
    "my_function(5, 6, 7, 8, 9)"
   ]
  },
  {
   "cell_type": "markdown",
   "metadata": {},
   "source": [
    "### Python 3.5+ allows passing multiple sets of keyword arguments (\"kwargs\") to a function within a single call, using the \"**\" syntax:"
   ]
  },
  {
   "cell_type": "code",
   "execution_count": null,
   "metadata": {},
   "outputs": [],
   "source": [
    "# This function has all positional arguments.\n",
    "def process_data(a, b, c, d):\n",
    "    print(a, b, c, d)\n",
    "\n",
    "# This function expects a dictionary of keys/values.\n",
    "def my_kwarg_func(**kwargs):\n",
    "    print(kwargs)\n"
   ]
  },
  {
   "cell_type": "code",
   "execution_count": null,
   "metadata": {},
   "outputs": [],
   "source": [
    "# Create two separate key/value dicts\n",
    "x = {'a': 1, 'b': 2}\n",
    "y = {'c': 3, 'd': 4}"
   ]
  },
  {
   "cell_type": "code",
   "execution_count": null,
   "metadata": {},
   "outputs": [],
   "source": [
    "# Call first func, using the dicts.\n",
    "# As long as the dict keys match the function argument names, all is well!\n",
    "# Don't try this in python 2!\n",
    "process_data(**x, **y)"
   ]
  },
  {
   "cell_type": "code",
   "execution_count": null,
   "metadata": {},
   "outputs": [],
   "source": [
    "# What happens if something doesn't match up?  Note the 'z' -- TypeError!\n",
    "y = {'c': 3, 'z': 4}\n",
    "process_data(**x, **y)"
   ]
  },
  {
   "cell_type": "code",
   "execution_count": null,
   "metadata": {},
   "outputs": [],
   "source": [
    "# We can call the func directly without splitting the dict ...\n",
    "process_data(**{'a':100, 'b':200, 'c':300, 'd':400})"
   ]
  },
  {
   "cell_type": "markdown",
   "metadata": {},
   "source": [
    "The process_data function MUST receive its arguments named as 'a', 'b', 'c' and 'd' only."
   ]
  },
  {
   "cell_type": "code",
   "execution_count": null,
   "metadata": {},
   "outputs": [],
   "source": [
    "# What happens if argument names don't match?  TypeError!\n",
    "process_data(**{'a':100, 'b':200, 'c':300, 'z':400})"
   ]
  },
  {
   "cell_type": "code",
   "execution_count": null,
   "metadata": {},
   "outputs": [],
   "source": [
    "# We can also use the dict() keyword to provide name/value pairs.\n",
    "process_data(**dict(a=300, b=42, c=500, d=600))\n",
    "\n",
    "# But that is difficult to read!  How about this? Will it work if things are out of order??\n",
    "process_data(d=600, c=500, a=400, b=42)"
   ]
  },
  {
   "cell_type": "code",
   "execution_count": null,
   "metadata": {},
   "outputs": [],
   "source": [
    "# You can even split up the data between a kwarg dict, and direct named arguments:\n",
    "process_data(**x, c=101, d=123)"
   ]
  },
  {
   "cell_type": "markdown",
   "metadata": {},
   "source": [
    "What about the other function .. does it care about a,b,c,d?\n",
    "No!  You can pass it any name/value pairs you want to!\n",
    "This is great if you need to make changes to a function-- you don't have to change the signature at all.\n",
    "But there is always a trade-off between enforcing argument types in the function signature, and allowing arbitrary name/value pairs to be used.  When you use kwargs, your function callers must be aware of all required parameter names.  Much like calling an API with JSON data. "
   ]
  },
  {
   "cell_type": "code",
   "execution_count": null,
   "metadata": {},
   "outputs": [],
   "source": [
    "# Python 3.5+ allows multiple kwargs to be combined into a single call\n",
    "my_kwarg_func(**x, **y)"
   ]
  },
  {
   "cell_type": "code",
   "execution_count": null,
   "metadata": {},
   "outputs": [],
   "source": [
    "# How would you pass in the `some_args` value to process_data?\n",
    "process_data(???)"
   ]
  }
 ],
 "metadata": {
  "kernelspec": {
   "display_name": "py35-test",
   "language": "python",
   "name": "py35-test"
  },
  "language_info": {
   "codemirror_mode": {
    "name": "ipython",
    "version": 3
   },
   "file_extension": ".py",
   "mimetype": "text/x-python",
   "name": "python",
   "nbconvert_exporter": "python",
   "pygments_lexer": "ipython3",
   "version": "3.5.5"
  }
 },
 "nbformat": 4,
 "nbformat_minor": 2
}
