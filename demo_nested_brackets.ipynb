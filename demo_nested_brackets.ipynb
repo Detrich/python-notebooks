{
 "cells": [
  {
   "cell_type": "markdown",
   "metadata": {},
   "source": [
    "## Assignment walkthrough:  Properly Nested Brackets"
   ]
  },
  {
   "cell_type": "markdown",
   "metadata": {},
   "source": [
    "## Description\n",
    "\n",
    "Today's exercise is drawn from the [ACM's](https://en.wikipedia.org/wiki/Association_for_Computing_Machinery) Intercollegiate Programming Contest (the ICPC), an annual tournament in which teams of three students from colleges and universities across the world compete to see how quickly they can write programs to solve specific tasks.\n",
    "\n",
    "During the actual contest, teams submit their code to an automated judge, which runs their code against several (secret) test cases to verify whether it produces the correct output. The real contest has both time pressure and penalties for incorrect / incomplete submissions, but you don't have to worry about that while practicing.\n",
    "\n",
    "Your submission will be a single-file python program that runs correctly on all the test inputs for the following task. It should take in input on stdin.\n",
    "\n",
    "## Nesting a bunch of Brackets\n",
    "In this problem we consider expressions containing brackets that are properly nested. These expressions are obtained by juxtaposition of properly nested expressions in a pair of matching brackets, the left one an opening and the right one a closing bracket.\n",
    "```\n",
    "( a + $ ( b = ) ( a ) )    # this is properly nested\n",
    "( a + $ ) b = ) ( a ( )    # this is not\n",
    "```\n",
    "\n",
    "In this problem we have several pairs of brackets, so we have to impose a second condition on the expression: the matching brackets should be of the same kind. Consequently `(())` is OK, but `([))` is not. The pairs of brackets are:\n",
    "```\n",
    "(  )\n",
    "[  ]\n",
    "{  }\n",
    "<  >\n",
    "(*  *)\n",
    "```\n",
    "The two characters `(*` should be interpreted as one symbol, or **token** not as an opening bracket `(` followed immediately by an asterisk, and similarly for `*)`. The combination `(*)` should be interpreted as `(*` followed by `)`.\n",
    "\n",
    "Write a program that checks whether expressions are properly nested. If the expression is not properly nested your program should determine the position of the offending bracket, that is the length of the shortest prefix of the expression that can not be extended to a properly nested expression. Don’t forget `(*` counts as one, as does `*)`. The characters that are not brackets also count as one.\n",
    "\n",
    "**Input**  \n",
    "The input is a text-file. Each line contains an expression to be checked followed by and end-of-line marker. No line contains more than 3000 characters. The input ends with a standard end-of-file marker.\n",
    "\n",
    "**Output**  \n",
    "The output is a textfile. Each line contains the result of the check of the corresponding inputline, that is ‘YES’ (in upper case), if the expression is OK, and (if it is not OK) ‘NO’ followed by a space and the position of the error.\n",
    "\n",
    "Sample Input\n",
    "```\n",
    "(*a++(*) \n",
    "(*a{+}*)\n",
    "```\n",
    "Sample Output\n",
    "```\n",
    "NO 6\n",
    "YES\n",
    "```  \n",
    "<html>\n",
    "<table align=\"left\" style=\"font-family:Courier New, Courier, monospace;\">\n",
    "<tr>\n",
    "   <th style=\"text-align:left;\">Sample Input 2</th>\n",
    "    <th>&nbsp;</th>\n",
    "   <th style=\"text-align:left;\">Sample Output 2</th>\n",
    " </tr>\n",
    "<tr>\n",
    "<td width=\"120\" style=\"text-align:left;\">\n",
    "(*a++(*)  \n",
    "(*a{+}*)  \n",
    "    <************)>   \n",
    "    ()(***)(**)  \n",
    "   ()(***)(*)  \n",
    "({{}{}}[{(){}[]}  \n",
    "   ([))  \n",
    " ()(**)  \n",
    "    ()*  \n",
    " aaaaaaa  \n",
    "    aaa(aaaa  \n",
    " *******  \n",
    " </td>\n",
    " <td width=\"40\"></td>\n",
    " <td width=\"120\" style=\"text-align:left;\">\n",
    "NO 6  \n",
    "YES  \n",
    "NO 17  \n",
    "YES  \n",
    "NO 10  \n",
    "NO 17  \n",
    "NO 6  \n",
    "YES  \n",
    "YES  \n",
    "YES  \n",
    "NO 13  \n",
    "YES                \n",
    "</td>\n",
    "</tr>\n",
    "</table>\n",
    "</html>"
   ]
  },
  {
   "cell_type": "markdown",
   "metadata": {},
   "source": [
    "### For this problem, an approach that uses a LIFO stack would be a good starting point:\n",
    "![LIFO stack](https://www.cs.cmu.edu/~adamchik/15-121/lectures/Stacks%20and%20Queues/pix/stack.bmp)\n",
    "\n",
    "LIFO means \"Last In, First Out\"  \n",
    "A list is a convenient way to implement a LIFO stack in Python, because it has a **pop()** method.  \n",
    "We'll also use the concept of **tokens** to decompose the input string.  \n",
    "Our method will consume and tokenize the input string from left to right."
   ]
  },
  {
   "cell_type": "markdown",
   "metadata": {},
   "source": [
    "### A simple function, that checks just one input string at a time."
   ]
  },
  {
   "cell_type": "code",
   "execution_count": null,
   "metadata": {},
   "outputs": [],
   "source": [
    "def is_nested(line):\n",
    "    \"\"\"Determines if all brackets are correctly nested.\"\"\"\n",
    "    raise NotImplementedError(\"let's do this!\")"
   ]
  },
  {
   "cell_type": "code",
   "execution_count": null,
   "metadata": {},
   "outputs": [],
   "source": [
    "# define a minimal set of test cases that will produce a \"YES\" and a \"NO\"\n",
    "simple_yes = \"(())\"\n",
    "simple_no = \"([))\"\n",
    "tricky_no = \"(*a++(*)\"\n",
    "tricky_yes = \"(*a{+}*)\"\n",
    "super_tricky_no = \"(*)\""
   ]
  },
  {
   "cell_type": "code",
   "execution_count": null,
   "metadata": {},
   "outputs": [],
   "source": [
    "# Test our function\n",
    "s = simple_yes\n",
    "print(\"Testing: '{}'\".format(s))\n",
    "\n",
    "result = is_nested(s)\n",
    "if result:\n",
    "    print(\"NO : {}\".format(result))\n",
    "else:\n",
    "    print(\"YES\")"
   ]
  },
  {
   "cell_type": "markdown",
   "metadata": {},
   "source": [
    "## Good work! Now the brackets can be nested!"
   ]
  },
  {
   "cell_type": "code",
   "execution_count": null,
   "metadata": {},
   "outputs": [],
   "source": []
  }
 ],
 "metadata": {
  "kernelspec": {
   "display_name": "Python 2",
   "language": "python",
   "name": "python2"
  },
  "language_info": {
   "codemirror_mode": {
    "name": "ipython",
    "version": 2
   },
   "file_extension": ".py",
   "mimetype": "text/x-python",
   "name": "python",
   "nbconvert_exporter": "python",
   "pygments_lexer": "ipython2",
   "version": "2.7.15"
  }
 },
 "nbformat": 4,
 "nbformat_minor": 2
}
