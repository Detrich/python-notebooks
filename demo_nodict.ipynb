{
  "nbformat": 4,
  "nbformat_minor": 0,
  "metadata": {
    "kernelspec": {
      "name": "python3",
      "display_name": "Python 3"
    },
    "language_info": {
      "codemirror_mode": {
        "name": "ipython",
        "version": 3
      },
      "file_extension": ".py",
      "mimetype": "text/x-python",
      "name": "python",
      "nbconvert_exporter": "python",
      "pygments_lexer": "ipython3",
      "version": "3.7.4"
    },
    "colab": {
      "name": "demo_nodict.ipynb",
      "provenance": [],
      "private_outputs": true,
      "collapsed_sections": [],
      "include_colab_link": true
    }
  },
  "cells": [
    {
      "cell_type": "markdown",
      "metadata": {
        "id": "view-in-github",
        "colab_type": "text"
      },
      "source": [
        "<a href=\"https://colab.research.google.com/github/KenzieAcademy/python-notebooks/blob/master/demo_nodict.ipynb\" target=\"_parent\"><img src=\"https://colab.research.google.com/assets/colab-badge.svg\" alt=\"Open In Colab\"/></a>"
      ]
    },
    {
      "cell_type": "markdown",
      "metadata": {
        "id": "t1CpEpQrJfe1",
        "colab_type": "text"
      },
      "source": [
        "<table border=\"0\" align=\"left\" width=\"700\" height=\"144\">\n",
        "<tbody>\n",
        "<tr>\n",
        "<td width=\"120\"><img width=\"100\" src=\"https://static1.squarespace.com/static/5992c2c7a803bb8283297efe/t/59c803110abd04d34ca9a1f0/1530629279239/\" /></td>\n",
        "<td style=\"width: 600px; height: 67px;\">\n",
        "<h1 style=\"text-align: left;\">Interview Question</h1>\n",
        "<h3 style=\"text-align: left;\">Create your own Dict class without using the 'dict' keyword.</h3>\n",
        "<p><a href=\"https://colab.research.google.com/github/KenzieAcademy/python-notebooks/blob/master/demo_nodict.ipynb\"> <img src=\"https://colab.research.google.com/assets/colab-badge.svg\" alt=\"Open In Colab\" align=\"left\" width=\"188\" height=\"32\" /> </a></p>\n",
        "</td>\n",
        "</tr>\n",
        "</tbody>\n",
        "</table>"
      ]
    },
    {
      "cell_type": "markdown",
      "metadata": {
        "id": "X3boAo04KT4Y",
        "colab_type": "text"
      },
      "source": [
        "### This coding test question was asked during an actual technical interview of a Kenzie student: \n",
        "\n",
        "> \"Create a class that behaves like a Python `dict`.  However, the class definition cannot use the `dict` keyword or Python dictionary class objects.\"\n"
      ]
    },
    {
      "cell_type": "markdown",
      "metadata": {
        "id": "92bwH6P2METU",
        "colab_type": "text"
      },
      "source": [
        "This is difficult problem, but not beyond our comprehension.  If we spend some time to outline and understand the problem first, then coding it becomes easier.\n",
        "\n",
        "- Study the properties of a dictionary:\n",
        "   - Fast lookups (uses hashing instead of indexing)\n",
        "   - What is hashing?\n",
        "   - Uses 'buckets' internally.  What's a bucket?\n",
        "   - How are duplicates handled?\n",
        "- Model a key-value pair as a distinct OOP Thing.\n",
        "- Model our dict as a container of those key-value OOP Thingys."
      ]
    },
    {
      "cell_type": "markdown",
      "metadata": {
        "id": "A9kkDYzVOx-h",
        "colab_type": "text"
      },
      "source": [
        "## `<Derail>`: Hashing\n",
        "Hashing is the process of using an algorithm to map data of any size to a fixed length. This is called a hash value. Hashing is used to create high performance, direct access data structures where large amount of data is to be stored and accessed quickly. Hash values are computed with hash functions.\n",
        "\n",
        "### Hashable objects which compare equal with `==` must have the same computed hash value."
      ]
    },
    {
      "cell_type": "code",
      "metadata": {
        "id": "aw84NDkOO6gb",
        "colab_type": "code",
        "colab": {}
      },
      "source": [
        "# What are some hashable objects in Python?\n",
        "# You may be tempted to check for a __hash__ method in the dir\n",
        "\n",
        "# Use callable instead\n",
        "print(f\"String is hashable? {callable(str.__hash__)}\")\n",
        "\n",
        "# What is/isn't hashable in Python?\n",
        "# print(f\"List is hashable? {callable(list.__hash__)}\")\n",
        "# print(f\"Int is hashable? {callable(int.__hash__)}\")\n",
        "# print(f\"Set is hashable? {callable(set.__hash__)}\")\n",
        "# print(f\"Tuple is hashable? {callable(tuple.__hash__)}\")\n",
        "\n",
        "\n"
      ],
      "execution_count": 0,
      "outputs": []
    },
    {
      "cell_type": "markdown",
      "metadata": {
        "id": "M6Q98Gclfd1v",
        "colab_type": "text"
      },
      "source": [
        "## Python hash() function\n",
        "The hash() function returns the hash value of the object if it has one. Hash values are integers. \n",
        "\n"
      ]
    },
    {
      "cell_type": "code",
      "metadata": {
        "id": "ecyH2d38fUaG",
        "colab_type": "code",
        "colab": {}
      },
      "source": [
        "# You can use try/except. Let's hash some things.\n",
        "thing = [1,2,3]\n",
        "try:\n",
        "    h = hash([1,2,3])\n",
        "    print(f\"{thing} : hashes into {h}\")\n",
        "except TypeError:\n",
        "    print(f\"{thing} : No hash for you.\")"
      ],
      "execution_count": 0,
      "outputs": []
    },
    {
      "cell_type": "markdown",
      "metadata": {
        "id": "EFnC0Y2NeqMH",
        "colab_type": "text"
      },
      "source": [
        "## Python immutable builtins are hashable.\n",
        "Hashable types are integers, strings, or tuples."
      ]
    },
    {
      "cell_type": "markdown",
      "metadata": {
        "id": "A1UKd7_TgkRI",
        "colab_type": "text"
      },
      "source": [
        "Python class objects are hashable by default. Their hash is derived from their Id.\n",
        "\n"
      ]
    },
    {
      "cell_type": "code",
      "metadata": {
        "id": "bPprAqMOergN",
        "colab_type": "code",
        "colab": {}
      },
      "source": [
        "class User:\n",
        "    \"\"\"A generic user\"\"\"\n",
        "    def __init__(self, name, agency):\n",
        "        self.name = name\n",
        "        self.agency = agency\n",
        "\n",
        "u1 = User('John Doe', 'cia')\n",
        "u2 = User('John Doe', 'cia')\n",
        "\n",
        "print(f'u1 hash: {hash(u1)}')\n",
        "print(f'u2 hash: {hash(u2)}')\n",
        "\n",
        "if (u1 == u2):\n",
        "    print('same user')\n",
        "else:\n",
        "    print('different users')\n",
        "\n",
        "# Can they be added to a set?\n",
        "myset = {u1, u2}\n",
        "print(f\"myset = {myset}\")"
      ],
      "execution_count": 0,
      "outputs": []
    },
    {
      "cell_type": "markdown",
      "metadata": {
        "id": "2ZVLk8Q8hJH0",
        "colab_type": "text"
      },
      "source": [
        "The user attributes are identical, but they are not identical objects because they occupy two separate memory locations and their IDs are different.  For the comparison to work, we need to implement the `__eq__()` method.\n",
        "\n"
      ]
    },
    {
      "cell_type": "code",
      "metadata": {
        "id": "az9uX0gnhMU1",
        "colab_type": "code",
        "colab": {}
      },
      "source": [
        "class User:\n",
        "    \"\"\"A generic user, with __eq__ and __repr__\"\"\"\n",
        "    def __init__(self, name, agency):\n",
        "        self.name = name\n",
        "        self.agency = agency\n",
        "    \n",
        "    def __repr__(self):\n",
        "        \"\"\"Rendering ourself in a more readable way\"\"\"\n",
        "        return f'[{self.name}:{self.agency}]'\n",
        "    \n",
        "    def __eq__(self, other):\n",
        "        \"\"\"Equality comparison func\"\"\"\n",
        "        return self.name == other.name and self.agency == other.agency\n",
        "\n",
        "# Test it\n",
        "u1 = User('Valerie', 'CIA')\n",
        "u2 = User('Valerie', 'CIA')\n",
        "\n",
        "# print(f'u1 hash: {hash(u1)}')\n",
        "# print(f'u2 hash: {hash(u2)}')\n",
        "\n",
        "print(f\"{u1} and {u2} are {'same' if u1 == u2 else 'different'}\")\n",
        "\n",
        "# Can they be added to a set?\n",
        "myset = {u1, u2}\n",
        "print(f\"myset = {myset}\")"
      ],
      "execution_count": 0,
      "outputs": []
    },
    {
      "cell_type": "markdown",
      "metadata": {
        "id": "fHiIwpF0k6_H",
        "colab_type": "text"
      },
      "source": [
        "The attribute comparison now returns the expected result, but the objects are not hashable yet."
      ]
    },
    {
      "cell_type": "code",
      "metadata": {
        "id": "MXugdRW4lH4h",
        "colab_type": "code",
        "colab": {}
      },
      "source": [
        "class User:\n",
        "    \"\"\"A generic user, with __eq__, __repr__ and __hash__\"\"\"\n",
        "    def __init__(self, name, agency):\n",
        "        self.name = name\n",
        "        self.agency = agency\n",
        "    \n",
        "    def __repr__(self):\n",
        "        return f'[{self.name}:{self.agency}]'\n",
        "    \n",
        "    def __eq__(self, other):\n",
        "        \"\"\"Equality comparison func\"\"\"\n",
        "        return self.name == other.name and self.agency == other.agency\n",
        "\n",
        "    # def __hash__(self):\n",
        "    #     \"\"\"Performs a hash on the attributes. Note the tuplization of hash input\"\"\"\n",
        "    #     return hash((self.name, self.agency))\n",
        "\n",
        "# Test it\n",
        "u1 = User('Valerie', 'CIA')\n",
        "u2 = User('Valerie', 'CIA')\n",
        "\n",
        "# print(f'u1 hash: {hash(u1)}')\n",
        "# print(f'u2 hash: {hash(u2)}')\n",
        "\n",
        "print(f\"{u1} and {u2} are {'same' if u1 == u2 else 'different'}\")\n",
        "\n",
        "# Can they be added to a set?\n",
        "myset = {u1, u2}\n",
        "print(f\"myset = {myset}\")"
      ],
      "execution_count": 0,
      "outputs": []
    },
    {
      "cell_type": "markdown",
      "metadata": {
        "id": "zat9hhV4oCEr",
        "colab_type": "text"
      },
      "source": [
        "## Hashing `</derail>`"
      ]
    },
    {
      "cell_type": "code",
      "metadata": {
        "id": "KRAzx1sun_AR",
        "colab_type": "code",
        "colab": {}
      },
      "source": [
        ""
      ],
      "execution_count": 0,
      "outputs": []
    }
  ]
}