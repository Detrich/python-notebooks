{
 "cells": [
  {
   "cell_type": "markdown",
   "metadata": {},
   "source": [
    "<table style=\"float: left;\">\n",
    "<tbody>\n",
    "<tr>\n",
    "<td ><img src=\"https://static1.squarespace.com/static/5992c2c7a803bb8283297efe/t/59c803110abd04d34ca9a1f0/1530629279239/\" alt=\"Kenzie Logo\" width=\"93\" height=\"93\" /></td>\n",
    "<td >\n",
    "<h1>&nbsp;A Brief Tour of Decorators&nbsp;</h1>\n",
    "</td>\n",
    "</tr>\n",
    "</tbody>\n",
    "</table>"
   ]
  },
  {
   "cell_type": "markdown",
   "metadata": {},
   "source": [
    "Decorators are part of Python that involves _Functional Programming_\n",
    "\n",
    "A Decorator gives a function a **new behavior without changing the function itself**.\n",
    "\n",
    "Wikipedia:\n",
    "> A design pattern that allows behavior to be added to an existing object, dynamically\n",
    "\n",
    "In Python this means that a decorator is code that can alter a \"callable\".  How is this enabled?  By way of _function closures_."
   ]
  },
  {
   "cell_type": "markdown",
   "metadata": {},
   "source": [
    "### Brief review of function closures\n",
    "You may think that _closures_ sound esoteric or mysterious but they are not really that bad.  In Python, a **closure** is simply a function that is returned by another function."
   ]
  },
  {
   "cell_type": "code",
   "execution_count": null,
   "metadata": {},
   "outputs": [],
   "source": [
    "def add_x(x):\n",
    "    # ------------ inner function starts here\n",
    "    def adder(num):\n",
    "        # adder is a closure\n",
    "        # x is a free variable\n",
    "        return x + num\n",
    "    # ------------ inner function ends here\n",
    "    return adder\n",
    "\n",
    "# We are creating NEW custom function objects.\n",
    "add_5 = add_x(5) # this is the adder() function, with number 5 enclosed within.\n",
    "add_6 = add_x(6) # this is the adder() function, with number 6 enclosed within.\n",
    "\n",
    "# They are two separate, brand new functions based on the original adder() function.\n",
    "print(add_5)\n",
    "print(add_6)"
   ]
  },
  {
   "cell_type": "code",
   "execution_count": null,
   "metadata": {},
   "outputs": [],
   "source": [
    "# We have created a function closure!\n",
    "# Specific job is to \"add 5 to something\" or \"add 6 to something\"\n",
    "print(add_5(10))\n",
    "print(add_6(10))"
   ]
  },
  {
   "cell_type": "markdown",
   "metadata": {},
   "source": [
    "Examine the function above.  There is an inner function, and an outer function.  The INNER function object is returned by the outer function.\n",
    "\n",
    "The inner function `adder` is said to be _closed over_ -- it is a CLOSURE.  In this example, since `x` has been defined outside the scope of adder, it is called a _free variable_\n",
    "\n",
    "Functions can return new functions.  The inner function is a CLOSURE.  However, the inner function relies on `x` to do its job.  The CLOSURE will include this free variable `x`.  Think of a closure as a package of a function object, plus any free variables it depends on."
   ]
  },
  {
   "cell_type": "markdown",
   "metadata": {},
   "source": [
    "### What is a **callable** in Python?\n",
    "A callable is anything that can be _called_.  DOH.\n"
   ]
  },
  {
   "cell_type": "code",
   "execution_count": null,
   "metadata": {},
   "outputs": [],
   "source": [
    "class Foo:\n",
    "    def __call__(self):\n",
    "        print('I have been called to a higher purpose')\n",
    "\n",
    "foo_instance = Foo()\n",
    "\n",
    "foo_instance() # this is calling the __call__ method\n",
    "\n",
    "foo_instance.__call__()  # This is also calling the __call__ method!\n",
    "\n",
    "# EXTRA CREDIT - how to test if an object is callable?\n",
    "# Your code goes here"
   ]
  },
  {
   "cell_type": "markdown",
   "metadata": {},
   "source": [
    "### Here's one that logs a function entry/exit\n",
    "Please make sure you understand this example.  \n",
    "1. Accepts an input function object named `func`\n",
    "2. Returns a function object named `wrapper`\n",
    "3. When `wrapper` is invoked, it does new things:\n",
    " - Print out a message\n",
    " - Invokes (calls) the original function object\n",
    " - Print out another message"
   ]
  },
  {
   "cell_type": "code",
   "execution_count": null,
   "metadata": {},
   "outputs": [],
   "source": [
    "def verbosify(func):\n",
    "    def inner_wrapper():\n",
    "        print(\"I'm about to call \" + func.__name__)\n",
    "        result = func()\n",
    "        print(\"I'm done with \" + func.__name__)\n",
    "        return result\n",
    "    return inner_wrapper\n",
    "        "
   ]
  },
  {
   "cell_type": "markdown",
   "metadata": {},
   "source": [
    "A decorator is only useful when it is applied to a function.  Let's try it!  But first, let's see the original function in action"
   ]
  },
  {
   "cell_type": "code",
   "execution_count": null,
   "metadata": {},
   "outputs": [],
   "source": [
    "def hello():\n",
    "    print(\"Hello Pussycat\")"
   ]
  },
  {
   "cell_type": "code",
   "execution_count": null,
   "metadata": {},
   "outputs": [],
   "source": [
    "# Verify the original function\n",
    "hello()\n",
    "\n",
    "# What is the name of the original function?\n",
    "hello.__name__"
   ]
  },
  {
   "cell_type": "markdown",
   "metadata": {},
   "source": [
    "Now let's redefine the original function.  Python is a functional language!"
   ]
  },
  {
   "cell_type": "code",
   "execution_count": null,
   "metadata": {},
   "outputs": [],
   "source": [
    "hello = verbosify(hello)\n",
    "hello()\n",
    "hello.__name__"
   ]
  },
  {
   "cell_type": "markdown",
   "metadata": {},
   "source": [
    "YES you saw that right, it is NOT the original function name anymore!!  But that's not the only beautiful thing.  We now have SYNTACTIC SUGAR for this procedure\n",
    "\n",
    "You may ask, WTF is \"Syntactic Sugar?\"  \n",
    "\n",
    "> Syntactic sugar is syntax within a programming language that is designed to make things easier to read or to express. It makes the language \"sweeter\" for human use: things can be expressed more clearly, more concisely, or in an alternative style that some may prefer.\n",
    "\n",
    "Well if there exists such a thing as Syntactic Sugar, then is there such a thing as _Syntactic Salt_?"
   ]
  },
  {
   "cell_type": "code",
   "execution_count": null,
   "metadata": {},
   "outputs": [],
   "source": [
    "# Place syntactic sugar decorator here\n",
    "\n",
    "def greet():\n",
    "    print('Good day to you!')"
   ]
  },
  {
   "cell_type": "code",
   "execution_count": null,
   "metadata": {},
   "outputs": [],
   "source": [
    "# Call it!\n",
    "greet()"
   ]
  },
  {
   "cell_type": "markdown",
   "metadata": {},
   "source": [
    "### Houston we have a problem.\n",
    "What if the function that we are decorating accepts parameters?  How do we pass parameters to a decorated function??"
   ]
  },
  {
   "cell_type": "code",
   "execution_count": null,
   "metadata": {},
   "outputs": [],
   "source": [
    "# Example\n",
    "@verbosify\n",
    "def add(x, y):\n",
    "    return x + y\n",
    "\n",
    "# I sense impending doom ...\n",
    "add(5, 3)"
   ]
  },
  {
   "cell_type": "markdown",
   "metadata": {},
   "source": [
    "### Oh drat. Tsk Tsk.\n",
    "We did not define any function parameters for `inner_wrapper`.  Ok, that is simple enough to fix ... just ADD PARAMETERS!  Here is a perfect use for `*args` and `**kwargs`.  They allow the inner_wrapper to accept an arbitrary number of arguments, and pass them into the original function."
   ]
  },
  {
   "cell_type": "code",
   "execution_count": null,
   "metadata": {},
   "outputs": [],
   "source": [
    "# Our decorator function ... revised to add args & kwargs\n",
    "def verbosify(func):\n",
    "    def inner_wrapper(*args, **kwargs):\n",
    "        print(\"I'm about to call \" + func.__name__)\n",
    "        result = func(*args, **kwargs)\n",
    "        print(\"I'm done with \" + func.__name__)\n",
    "        return result\n",
    "    return inner_wrapper\n"
   ]
  },
  {
   "cell_type": "code",
   "execution_count": null,
   "metadata": {},
   "outputs": [],
   "source": [
    "# Let's try again to pass arguments\n",
    "\n",
    "@verbosify\n",
    "def add(x, y):\n",
    "    return x + y\n",
    "\n",
    "# Smooth Sailing\n",
    "add(5, 3)"
   ]
  },
  {
   "cell_type": "code",
   "execution_count": null,
   "metadata": {},
   "outputs": [],
   "source": [
    "@verbosify\n",
    "def goodbye():\n",
    "    print('BUH BYE')\n",
    "    \n",
    "goodbye()"
   ]
  },
  {
   "cell_type": "markdown",
   "metadata": {},
   "source": [
    "### Here is a lovely decorator template\n",
    "Here is a generic template for a decorator, that accepts arbitrary arguments"
   ]
  },
  {
   "cell_type": "code",
   "execution_count": null,
   "metadata": {},
   "outputs": [],
   "source": [
    "# Version 1\n",
    "def decorator(func_to_decorate):\n",
    "    def inner_wrapper(*args, **kwargs):\n",
    "        # Do something before calling func_to_decorate\n",
    "        result = func_to_decorate(*args, **kwargs)\n",
    "        # Do something after calling func_to_decorate\n",
    "        return result\n",
    "    inner_wrapper.__doc__ = func_to_decorate.__doc__\n",
    "    inner_wrapper.__name__ = func_to_decorate.__name__\n",
    "    return inner_wrapper"
   ]
  },
  {
   "cell_type": "code",
   "execution_count": null,
   "metadata": {},
   "outputs": [],
   "source": [
    "# Version 2\n",
    "from functools import wraps\n",
    "def decorator(func_to_decorate):\n",
    "    @wraps(func_to_decorate)\n",
    "    def inner_wrapper(*args, **kwargs):\n",
    "        # Do something before calling func_to_decorate\n",
    "        result = func_to_decorate(*args, **kwargs)\n",
    "        # Do something after calling func_to_decorate\n",
    "        return result\n",
    "    return inner_wrapper"
   ]
  },
  {
   "cell_type": "markdown",
   "metadata": {},
   "source": [
    "You may have noticed the lines with `__doc__` and `__name__` .. what is going on there?\n",
    "\n",
    "A well-behaved decorator should have the `__doc__` and `__name__` attributes of its inner wrapper updated to reflect those of the original decorated function, so it is \"friendly to introspection\" -- it should not change the names of functions.  This is important for serialization of objects."
   ]
  },
  {
   "cell_type": "markdown",
   "metadata": {},
   "source": [
    "### Other ways to create decorators\n",
    "Remember that any _callable_ can be used to decorate a function.  This includes not only functions (which are naturally callable) but also class objects.  In most basic form, a decorator is a callable, that accepts a callable, and returns a callable."
   ]
  },
  {
   "cell_type": "code",
   "execution_count": null,
   "metadata": {},
   "outputs": [],
   "source": [
    "class deco_class(object):\n",
    "    def __init__(self, func):\n",
    "        self.func = func\n",
    "    # by implementing the __call__ magic method, this class is now `callable`\n",
    "    def __call__(self, *args, **kwargs):\n",
    "        print('deco class before invoking its func')\n",
    "        result = self.func(*args, **kwargs)\n",
    "        print('deco class after invoking its func')"
   ]
  },
  {
   "cell_type": "code",
   "execution_count": null,
   "metadata": {},
   "outputs": [],
   "source": [
    "@deco_class\n",
    "def my_other_func():\n",
    "    print(\"I feel like I've been OTHERED\")\n",
    "    \n",
    "my_other_func()"
   ]
  },
  {
   "cell_type": "markdown",
   "metadata": {},
   "source": [
    "### Decorator examples\n",
    "This decorator works by storing the time just before the function starts running (at the line marked # 1) and just after the function finishes (at # 2). The time the function takes is then the difference between the two (at # 3)."
   ]
  },
  {
   "cell_type": "code",
   "execution_count": null,
   "metadata": {},
   "outputs": [],
   "source": [
    "import functools\n",
    "import time\n",
    "\n",
    "def timer(func):\n",
    "    \"\"\"Print the runtime of the decorated function\"\"\"\n",
    "    @functools.wraps(func)\n",
    "    def wrapper_timer(*args, **kwargs):\n",
    "        start_time = time.time()    # 1\n",
    "        value = func(*args, **kwargs)\n",
    "        end_time = time.time()      # 2\n",
    "        run_time = end_time - start_time    # 3\n",
    "        print(\"Finished {} in {:.4f} secs\".format(func.__name__, run_time))\n",
    "        return value\n",
    "    return wrapper_timer\n",
    "\n",
    "@timer\n",
    "def waste_some_time(num_times):\n",
    "    for _ in range(num_times):\n",
    "        sum([i**2 for i in range(10000)])"
   ]
  },
  {
   "cell_type": "code",
   "execution_count": null,
   "metadata": {},
   "outputs": [],
   "source": [
    "waste_some_time(1)"
   ]
  },
  {
   "cell_type": "code",
   "execution_count": null,
   "metadata": {},
   "outputs": [],
   "source": [
    "waste_some_time(999)"
   ]
  },
  {
   "cell_type": "markdown",
   "metadata": {},
   "source": [
    "Note: The `@timer` decorator is great if you just want to get an idea about the runtime of your functions. If you want to do more precise measurements of code, you should instead consider the timeit module in the standard library. It temporarily disables garbage collection and runs multiple trials to strip out noise from quick function calls."
   ]
  },
  {
   "cell_type": "markdown",
   "metadata": {},
   "source": [
    "### Keeping state within a decorator"
   ]
  },
  {
   "cell_type": "code",
   "execution_count": null,
   "metadata": {},
   "outputs": [],
   "source": [
    "import functools\n",
    "\n",
    "def count_calls(func):\n",
    "    @functools.wraps(func)\n",
    "    def wrapper_count_calls(*args, **kwargs):\n",
    "        wrapper_count_calls.num_calls += 1\n",
    "        print(\"Call {} of {}\".format(wrapper_count_calls.num_calls, func.__name__))\n",
    "        return func(*args, **kwargs)\n",
    "    # This adds a new attribute variable to the `wrapper_count_calls` function!\n",
    "    # The state of this counter is preserved between successive calls.\n",
    "    wrapper_count_calls.num_calls = 0  \n",
    "    \n",
    "    return wrapper_count_calls\n",
    "\n",
    "@count_calls\n",
    "def say_ticktock():\n",
    "    print(\"Tick Tock!\")\n",
    "    \n",
    "say_ticktock()\n",
    "say_ticktock()\n",
    "for _ in range(1, 10):\n",
    "    say_ticktock()"
   ]
  },
  {
   "cell_type": "markdown",
   "metadata": {},
   "source": [
    "## Conclusions\n",
    " - Decorators are cool. Functional programming is cool.\n",
    " - You will use them in Flask and Django\n",
    " - We have only scratched the surface here!"
   ]
  },
  {
   "cell_type": "code",
   "execution_count": null,
   "metadata": {},
   "outputs": [],
   "source": []
  }
 ],
 "metadata": {
  "kernelspec": {
   "display_name": "Python 2",
   "language": "python",
   "name": "python2"
  },
  "language_info": {
   "codemirror_mode": {
    "name": "ipython",
    "version": 2
   },
   "file_extension": ".py",
   "mimetype": "text/x-python",
   "name": "python",
   "nbconvert_exporter": "python",
   "pygments_lexer": "ipython2",
   "version": "2.7.15"
  }
 },
 "nbformat": 4,
 "nbformat_minor": 2
}
