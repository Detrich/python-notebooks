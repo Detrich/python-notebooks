{
 "cells": [
  {
   "cell_type": "markdown",
   "metadata": {},
   "source": [
    "<table style=\"float: left;\">\n",
    "<tbody>\n",
    "<tr>\n",
    "<td ><img src=\"https://static1.squarespace.com/static/5992c2c7a803bb8283297efe/t/59c803110abd04d34ca9a1f0/1530629279239/\" alt=\"Kenzie Logo\" width=\"93\" height=\"93\" /></td>\n",
    "<td >\n",
    "<h1>&nbsp;String Formatting: A Quick Tour&nbsp;</h1>\n",
    "</td>\n",
    "</tr>\n",
    "</tbody>\n",
    "</table>"
   ]
  },
  {
   "cell_type": "markdown",
   "metadata": {},
   "source": [
    "Recall back to the early days when you were bestowed the \"Zen of Python\" ... via the secret Easter Egg of `import this`.  Tim Peters mentioned something about _The one obvious way_ to do things.  Let's refresh our memory:"
   ]
  },
  {
   "cell_type": "code",
   "execution_count": null,
   "metadata": {},
   "outputs": [],
   "source": [
    "# Get the easter egg!\n",
    "import codecs\n",
    "import this\n",
    "\n",
    "# The Zen is contained inside an encoded attribute named 's'\n",
    "s = codecs.decode(this.s, \"rot13\")\n",
    "\n",
    "# What did he say about obvious things???\n",
    "for line in s.split('\\n'):\n",
    "    if 'obvious way' in line:\n",
    "        print(line)"
   ]
  },
  {
   "cell_type": "markdown",
   "metadata": {},
   "source": [
    "Unfortunately, this statement is not always true.  In fact there are FOUR major ways to format strings in Python.  In this notebook we will explore each of the four string formatting methods."
   ]
  },
  {
   "cell_type": "code",
   "execution_count": null,
   "metadata": {},
   "outputs": [],
   "source": [
    "# For example purposes, we'll declare a couple of variables that will be printed and formatted.\n",
    "errno = 50159747054\n",
    "name = 'Bob Hunt'"
   ]
  },
  {
   "cell_type": "markdown",
   "metadata": {},
   "source": [
    "## Formatting Option 1 -- [Old Style](https://docs.python.org/2/library/stdtypes.html#string-formatting)\n",
    "The `%` character is used in Python strings to trigger some built-in behavior called \"placeholder substitution\".  This technique is borrowed from early days of C-language programming and their `printf` library function.  You use the `%` character (with some extra alpha characters) directly in your format string to perform substitution."
   ]
  },
  {
   "cell_type": "code",
   "execution_count": null,
   "metadata": {},
   "outputs": [],
   "source": [
    "# Use `%s` to perform a string variable substitution\n",
    "'Hello, %s' % name"
   ]
  },
  {
   "cell_type": "markdown",
   "metadata": {},
   "source": [
    "There are many different format specifiers that let you control the look of the output string.  You can convert integers to hexadecimal notation, add whitespace, left-justify, pad with zeroes, and so forth.  Have a look at this mini-language within Python:\n",
    "```\n",
    "Flag   Meaning\n",
    "'#'\tThe value conversion will use the “alternate form” (where defined below).\n",
    "'0'\tThe conversion will be zero padded for numeric values.\n",
    "'-'\tThe converted value is left adjusted (overrides the '0' conversion if both are given).\n",
    "' '\t(a space) A blank should be left before a positive number (or empty string) produced by a signed conversion.\n",
    "'+'\tA sign character ('+' or '-') will precede the conversion (overrides a “space” flag).\n",
    "\n",
    "\n",
    "Conversion\tMeaning\tNotes\n",
    "'d'\tSigned integer decimal.\t \n",
    "'i'\tSigned integer decimal.\t \n",
    "'o'\tSigned octal value.\t(1)\n",
    "'u'\tObsolete type – it is identical to 'd'.\t(7)\n",
    "'x'\tSigned hexadecimal (lowercase).\t(2)\n",
    "'X'\tSigned hexadecimal (uppercase).\t(2)\n",
    "'e'\tFloating point exponential format (lowercase).\t(3)\n",
    "'E'\tFloating point exponential format (uppercase).\t(3)\n",
    "'f'\tFloating point decimal format.\t(3)\n",
    "'F'\tFloating point decimal format.\t(3)\n",
    "'g'\tFloating point format. Uses lowercase exponential format if exponent is less than -4 or not less than precision, decimal format otherwise.\t(4)\n",
    "'G'\tFloating point format. Uses uppercase exponential format if exponent is less than -4 or not less than precision, decimal format otherwise.\t(4)\n",
    "'c'\tSingle character (accepts integer or single character string).\t \n",
    "'r'\tString (converts any Python object using repr()).\t(5)\n",
    "'s'\tString (converts any Python object using str()).\t(6)\n",
    "'%'\tNo argument is converted, results in a '%' character in the result.\t \n",
    "```\n",
    "\n",
    "The main formatting argument specifiers that you should know are:\n",
    "\n",
    "```\n",
    "%s - String (or any object with a string representation, like numbers)\n",
    "%d - Integers\n",
    "%f - Floating point numbers\n",
    "%.<number of digits>f - Floating point numbers with a fixed amount of digits to the right of the dot.\n",
    "%x/%X - Integers in hex representation (lowercase/uppercase)\n",
    "```\n",
    "\n"
   ]
  },
  {
   "cell_type": "code",
   "execution_count": null,
   "metadata": {},
   "outputs": [],
   "source": [
    "# Let's try out the `x` formatter to convert errno into hexadecimal.\n",
    "# Hexadecimal is another word for `base 16`\n",
    "print('Errno is %x' % errno)"
   ]
  },
  {
   "cell_type": "code",
   "execution_count": null,
   "metadata": {},
   "outputs": [],
   "source": [
    "# If we are printing multiple arguments in the Old-Style way, \n",
    "# we need to enclose all variables as a tuple\n",
    "print('Hey %s, there is a %x error!!' % (name, errno))"
   ]
  },
  {
   "cell_type": "code",
   "execution_count": null,
   "metadata": {},
   "outputs": [],
   "source": [
    "# But we don't HAVE to use a tuple ... we could also pass a keyword dict:\n",
    "print('Hey %(name)s, there is a %(errno)x error!!' % {'name': name, 'errno': errno})\n",
    "print('Hey %(name)s, there is a %(errno)x error!!' % dict(name=name, errno=errno))"
   ]
  },
  {
   "cell_type": "markdown",
   "metadata": {},
   "source": [
    "Using keyword argument mappings is good form in Python, because you don't need to worry about the order of the arguments matches up with the order of the values in the format string.\n",
    "\n",
    "Any object which is not a string can be formatted using the `%s` operator as well. The string which returns from the `__repr__` method of that object is formatted as the string.\n",
    "\n",
    "Why is this style of formatting called \"Old Style\"?  Because it has been replaced with \"New Style\" formatting (LOL!).  Actually replaced is too harsh .. let's just say it has been _de-emphasized_.  Old Style formatting is still available in all latest versions of Python.\n",
    "\n",
    "**PRACTICE**: In the next cell, write an old-style format string which prints out the data using the following syntax:\n",
    "\n",
    "```console\n",
    "Hello John Doe. Your current balance is $53.44\n",
    "```"
   ]
  },
  {
   "cell_type": "code",
   "execution_count": null,
   "metadata": {},
   "outputs": [],
   "source": [
    "# Modify the format string\n",
    "data = (\"John\", \"Doe\", 53.44)\n",
    "format_string = \"Hello\"\n",
    "\n",
    "print(format_string % data)"
   ]
  },
  {
   "cell_type": "markdown",
   "metadata": {},
   "source": [
    "## Formatting Option 2 - [New Style](https://docs.python.org/3/library/string.html#format-string-syntax)\n",
    "New-style formatting became available in Python 3, then was back-ported to Python 2.  It was introduced for syntactic improvement over the `%-operator`.  Formatting is now done by calling a built-in method `.format()` on string objects."
   ]
  },
  {
   "cell_type": "code",
   "execution_count": null,
   "metadata": {},
   "outputs": [],
   "source": [
    "# The format() function can do simple positional formatting\n",
    "print('Hello there {}'.format(name))"
   ]
  },
  {
   "cell_type": "code",
   "execution_count": null,
   "metadata": {},
   "outputs": [],
   "source": [
    "# You can also refer to your variable substitutions by name and use them in any order\n",
    "print('By the way {name}, you made a {errno} error.'.format(errno=errno, name=name))"
   ]
  },
  {
   "cell_type": "markdown",
   "metadata": {},
   "source": [
    "That's not a cool error, however-- it looks better in hexadecimal. The syntax to format an int variable as a hexadecimal string has changed. To display in hex, we use the `:x` suffix after the variable name."
   ]
  },
  {
   "cell_type": "code",
   "execution_count": null,
   "metadata": {},
   "outputs": [],
   "source": [
    "print('By the way {name}, you made a 0x{errno:x} error.'.format(errno=errno, name=name))\n",
    "print('By the way {name}, you made a {errno:#x} error.'.format(errno=errno, name=name))"
   ]
  },
  {
   "cell_type": "markdown",
   "metadata": {},
   "source": [
    "The `format()` style has it's own formatting specifier \"mini-language\".  In Python, you will constantly be formatting some kind of string-- You should familiarize yourself with it:\n",
    "\n",
    "https://docs.python.org/3/library/string.html#format-specification-mini-language\n"
   ]
  },
  {
   "cell_type": "code",
   "execution_count": null,
   "metadata": {},
   "outputs": [],
   "source": [
    "# What will be printed?\n",
    "'{0}, {1}, {2}'.format('a', 'b', 'c')"
   ]
  },
  {
   "cell_type": "code",
   "execution_count": null,
   "metadata": {},
   "outputs": [],
   "source": [
    "'{}, {}, {}'.format('a', 'b', 'c')  # 3.1+ only"
   ]
  },
  {
   "cell_type": "code",
   "execution_count": null,
   "metadata": {},
   "outputs": [],
   "source": [
    "'{2}, {1}, {0}'.format('a', 'b', 'c')"
   ]
  },
  {
   "cell_type": "code",
   "execution_count": null,
   "metadata": {},
   "outputs": [],
   "source": [
    "'{2}, {1}, {0}'.format(*'abc')      # unpacking argument sequence"
   ]
  },
  {
   "cell_type": "code",
   "execution_count": null,
   "metadata": {},
   "outputs": [],
   "source": [
    "'{0}{1}{0}'.format('abra', 'cad')   # arguments' indices can be repeated"
   ]
  },
  {
   "cell_type": "code",
   "execution_count": null,
   "metadata": {},
   "outputs": [],
   "source": [
    "# Here we are accessing arguments by name\n",
    "'Coordinates: {latitude}, {longitude}'.format(latitude='37.24N', longitude='-115.81W')"
   ]
  },
  {
   "cell_type": "code",
   "execution_count": null,
   "metadata": {},
   "outputs": [],
   "source": [
    "coord = {'latitude': '37.24N', 'longitude': '-115.81W'}\n",
    "'Coordinates: {latitude}, {longitude}'.format(**coord)"
   ]
  },
  {
   "cell_type": "code",
   "execution_count": null,
   "metadata": {},
   "outputs": [],
   "source": [
    "# We can access attributes of an object\n",
    "from collections import namedtuple\n",
    "Point = namedtuple('Point', 'x y')\n",
    "pt1 = Point(1.0, 5.0)\n",
    "pt2 = Point(2.5, 1.5)\n",
    "\n",
    "'Start from point {0.x}, {0.y} and end at point {1.x}, {1.y}'.format(pt1, pt2)"
   ]
  },
  {
   "cell_type": "markdown",
   "metadata": {},
   "source": [
    "## Formatting Option 3 - [String Interpolation](https://www.python.org/dev/peps/pep-0498/) (Python 3.6+)\n",
    "In Python 3.6 we encounter yet _another_ way to format strings, called _Formatted String Literals_ (Recall that a Literal String is any string with \"quotes\" around it).  In this syntax, we can insert small Python expressions directly into string constants!\n",
    "\n",
    "These are called **f-Strings**"
   ]
  },
  {
   "cell_type": "code",
   "execution_count": null,
   "metadata": {},
   "outputs": [],
   "source": [
    "# Let's try an f-string (Change your kernel to Python 3)\n",
    "errno = 50159747054\n",
    "name = 'Bob Hunt'\n",
    "# You denote an f-string by prefixing a f or F in front of a string literal:\n",
    "print(f'Hello there Mr. {name}')"
   ]
  },
  {
   "cell_type": "code",
   "execution_count": null,
   "metadata": {},
   "outputs": [],
   "source": [
    "# What about inserting a Python expression?\n",
    "# This IS string interpolation!\n",
    "a = 12\n",
    "b = 45\n",
    "f'If a = {a} and b = {b} then their sum is {a + b}'"
   ]
  },
  {
   "cell_type": "markdown",
   "metadata": {},
   "source": [
    "This trivial-seeming feature of being able to insert (interpolate) any Python expression into a string literal is super powerful.  Plus, it LOOKS GREAT.  Which is more readable??\n",
    "```python\n",
    "# This?\n",
    "logging.warn(\"Disk space for drive {} is low, only {} bytes remaining\".format(driveid, space_left))\n",
    "\n",
    "# Or this?\n",
    "logging.warn(f\"Disk space for drive {driveid} is low, only {space_left} bytes remaining\")\n",
    "```"
   ]
  },
  {
   "cell_type": "markdown",
   "metadata": {},
   "source": [
    "### Are F-Strings faster than format strings?"
   ]
  },
  {
   "cell_type": "code",
   "execution_count": null,
   "metadata": {},
   "outputs": [],
   "source": [
    "import timeit\n",
    "import dis\n",
    "\n",
    "def foo_format():\n",
    "    x = 42\n",
    "    y = 99\n",
    "    return '{} + {} = {}'.format(x, y, x+y)\n",
    "\n",
    "def foo_fstring():\n",
    "    x = 42\n",
    "    y = 99\n",
    "    return f'{x} + {y} = {x + y}'\n",
    "\n",
    "# Notice the LOAD_ATTR lookup, and CALL_FUNCTION.  Expensive..\n",
    "dis.dis(foo_format)"
   ]
  },
  {
   "cell_type": "code",
   "execution_count": null,
   "metadata": {},
   "outputs": [],
   "source": [
    "# Check it out:  No LOAD_ATTR or CALL_FUNCTION, just a BUILD_STRING\n",
    "dis.dis(foo_fstring)"
   ]
  },
  {
   "cell_type": "code",
   "execution_count": null,
   "metadata": {},
   "outputs": [],
   "source": [
    "t_format = timeit.timeit(\"foo_format()\", setup=\"from __main__ import foo_format\")\n",
    "t_format"
   ]
  },
  {
   "cell_type": "code",
   "execution_count": null,
   "metadata": {},
   "outputs": [],
   "source": [
    "t_fstring = timeit.timeit(\"foo_fstring()\", setup=\"from __main__ import foo_fstring\")\n",
    "t_fstring"
   ]
  },
  {
   "cell_type": "code",
   "execution_count": null,
   "metadata": {},
   "outputs": [],
   "source": [
    "# What is the speed percentage improvement?\n",
    "# Left as an exercise to the reader.  \n",
    "# Replace ??? with an expression to calculate speed improvement percentage.\n",
    "f'F-Strings are {???} faster than format strings!'"
   ]
  },
  {
   "cell_type": "code",
   "execution_count": null,
   "metadata": {},
   "outputs": [],
   "source": [
    "# Let's try out some formatting exercises\n",
    "import math\n",
    "print(f\"Pi to 3 digits: {???}\")  # prints \"Pi to 3 digits: 3.142\"\n"
   ]
  },
  {
   "cell_type": "code",
   "execution_count": null,
   "metadata": {},
   "outputs": [],
   "source": [
    "# Aligning the text and specifying a width:\n",
    "'{:<30}'.format('left aligned')"
   ]
  },
  {
   "cell_type": "code",
   "execution_count": null,
   "metadata": {},
   "outputs": [],
   "source": [
    "# What do you thing a right aligned formatter will be?\n",
    "'{???}'.format('right aligned')"
   ]
  },
  {
   "cell_type": "code",
   "execution_count": null,
   "metadata": {},
   "outputs": [],
   "source": [
    "# Use fill character '*', width, and centering to print ***********centered***********\n",
    "'{???}'.format('centered')"
   ]
  },
  {
   "cell_type": "code",
   "execution_count": null,
   "metadata": {},
   "outputs": [],
   "source": [
    "# Embed commas in large numbers\n",
    "'{:,}'.format(1234567890)"
   ]
  },
  {
   "cell_type": "code",
   "execution_count": null,
   "metadata": {},
   "outputs": [],
   "source": [
    "# support all the different numeric bases\n",
    "\"int: {0:d};  hex: {0:x};  oct: {0:o};  bin: {0:b}\".format(42)\n"
   ]
  },
  {
   "cell_type": "code",
   "execution_count": null,
   "metadata": {},
   "outputs": [],
   "source": [
    "# Numbers from 5 to 11, expressed in different bases\n",
    "width = 5\n",
    "for num in range(5, 12): \n",
    "    for base in 'dXob':\n",
    "        print('{0:{width}{base}}'.format(num, base=base, width=width), end=' ')\n",
    "    print()"
   ]
  },
  {
   "cell_type": "markdown",
   "metadata": {},
   "source": [
    "\n",
    "## Formatting Option 4 - Template Strings\n",
    "It's simpler than `format()` but also less powerful.  Template strings are not a core feature of Python.  For this reason we must import the Template class from the standard library `string` module."
   ]
  },
  {
   "cell_type": "code",
   "execution_count": null,
   "metadata": {},
   "outputs": [],
   "source": [
    "from string import Template\n",
    "t = Template('Whazzup over there $name?')\n",
    "t.substitute(name=name)"
   ]
  },
  {
   "cell_type": "markdown",
   "metadata": {},
   "source": [
    "One major drawback of template strings is that they don't support format specifiers.  We have to do all our own formatting."
   ]
  },
  {
   "cell_type": "code",
   "execution_count": null,
   "metadata": {},
   "outputs": [],
   "source": [
    "t_string = 'Ahem $name, you have not cleaned up that $errno error!'\n",
    "Template(t_string).substitute(name=name, errno=hex(errno))"
   ]
  },
  {
   "cell_type": "markdown",
   "metadata": {},
   "source": [
    "Template strings are best suited in cases where the formatting string itself is being supplied through user input.  If users are allow to supply their own formatting strings in an application by design, then Template Strings are a way to close this security vulnerability.\n",
    "\n",
    "In general, Template Strings are used when you need a simple templating engine that substitutes values into some boilerplate text, to produce an output."
   ]
  },
  {
   "cell_type": "code",
   "execution_count": null,
   "metadata": {},
   "outputs": [],
   "source": [
    "# Template Strings use `$` instead of `%`\n",
    "s = Template('$when, $who $action $what.')\n",
    "output1 = s.substitute(when='In the summer', who='John', action='drinks', what='iced tea')\n",
    "output2 = s.substitute(when='At night', who='Jean', action='eats', what='popcorn')\n",
    "print(output1)\n",
    "print(output2)"
   ]
  },
  {
   "cell_type": "markdown",
   "metadata": {},
   "source": [
    "## Conclusions - what to use when?\n",
    "\n",
    " - If users are providing their own format strings, use Template Strings\n",
    " - If you are on Python 3.6+, use f-Strings.\n",
    " - Otherwise, use the `format()` method"
   ]
  },
  {
   "cell_type": "code",
   "execution_count": null,
   "metadata": {},
   "outputs": [],
   "source": []
  }
 ],
 "metadata": {
  "kernelspec": {
   "display_name": "Python 2",
   "language": "python",
   "name": "python2"
  },
  "language_info": {
   "codemirror_mode": {
    "name": "ipython",
    "version": 2
   },
   "file_extension": ".py",
   "mimetype": "text/x-python",
   "name": "python",
   "nbconvert_exporter": "python",
   "pygments_lexer": "ipython2",
   "version": "2.7.15"
  }
 },
 "nbformat": 4,
 "nbformat_minor": 2
}
