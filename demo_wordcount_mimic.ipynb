{
 "cells": [
  {
   "cell_type": "markdown",
   "metadata": {},
   "source": [
    "<table align=left width=\"590\" height=\"144\" style=\"height: 67px; width: 565px;\">\n",
    "<tbody>\n",
    "<tr>\n",
    "<td width=82><img src=\"https://static1.squarespace.com/static/5992c2c7a803bb8283297efe/t/59c803110abd04d34ca9a1f0/1530629279239/\" /></td>\n",
    "<td style=\"width: 422px; height: 67px;\">\n",
    "<h1 style=\"text-align: left;\">Walkthrough -- Wordcount and Mimic</h1>\n",
    "<p><a href=\"https://colab.research.google.com/github/KenzieAcademy/python-notebooks/blob/master/demo_wordcount_mimic.ipynb\"> <img src=\"https://colab.research.google.com/assets/colab-badge.svg\" alt=\"Open In Colab\" align=\"left\" width=\"188\" height=\"32\" /> </a></p>\n",
    "</td>\n",
    "</tr>\n",
    "</tbody>\n",
    "</table>"
   ]
  },
  {
   "cell_type": "markdown",
   "metadata": {},
   "source": [
    "Assumption is that the \"alice.txt\" file is copied and available for reading in the local directory where this notebook is running."
   ]
  },
  {
   "cell_type": "code",
   "execution_count": null,
   "metadata": {},
   "outputs": [],
   "source": [
    "# Let's check and see if alice.txt is here:\n",
    "import os\n",
    "\n",
    "# What is our current directory?\n",
    "cwd = os.getcwd()\n",
    "print(\"We are running from {}\".format(cwd))\n",
    "\n",
    "if not os.path.exists(\"alice.txt\"):\n",
    "    print(\"Sorry -- please copy the alice.txt file to this directory.\")\n",
    "else:\n",
    "    print(\"The alice.txt file is ready for reading!\")"
   ]
  },
  {
   "cell_type": "markdown",
   "metadata": {},
   "source": [
    "## Wordcount\n",
    "In this assignment you will use your knowledge of Python basic strings,\n",
    "arithmetic, file reading, and dicts to create a command line utility to count\n",
    "the words in a text file "
   ]
  },
  {
   "cell_type": "markdown",
   "metadata": {},
   "source": [
    "Define `print_words(filename)` and `print_top(filename)` functions.\n",
    "You could write a helper utility function that reads a file\n",
    "and builds and returns a word/count dict for it.\n",
    "Then `print_words()` and `print_top()` can just call the utility function."
   ]
  },
  {
   "cell_type": "code",
   "execution_count": null,
   "metadata": {},
   "outputs": [],
   "source": [
    "def create_dict(filename):\n",
    "    \"\"\"Returns a word/count dict for this filename.\"\"\"\n",
    "    raise NotImplementedError('Get Busy!')"
   ]
  },
  {
   "cell_type": "code",
   "execution_count": null,
   "metadata": {},
   "outputs": [],
   "source": [
    "def print_words(filename):\n",
    "    word_dict = create_dict(filename)\n",
    "    \"\"\"Prints one per line '<word> <count>' sorted by word, for the given filename.\"\"\"\n",
    "    raise NotImplementedError('Get Busy!')"
   ]
  },
  {
   "cell_type": "code",
   "execution_count": null,
   "metadata": {},
   "outputs": [],
   "source": [
    "def print_top(filename):\n",
    "    \"\"\"Prints the top 20 most frequent words for the given filename.\"\"\"\n",
    "    word_dict = create_dict(filename)\n",
    "    raise NotImplementedError('Get Busy!')"
   ]
  },
  {
   "cell_type": "markdown",
   "metadata": {},
   "source": [
    "## Let us now test our wordcount functions!"
   ]
  },
  {
   "cell_type": "code",
   "execution_count": null,
   "metadata": {},
   "outputs": [],
   "source": [
    "infile = 'alice.txt'\n",
    "print_words(infile)\n",
    "print_top(infile)"
   ]
  },
  {
   "cell_type": "markdown",
   "metadata": {},
   "source": [
    "# Mimic\n",
    "Build a \"mimic\" dict that maps each word that appears in the alice.txt file to a list of all the words that immediately follow that word in the file. The list of words can be be in any order and should include duplicates. So for example the key \"and\" might have the list `[\"then\", \"best\", \"then\", \"after\", ...]` listing all the words which came after \"and\" in the text.\n",
    "\n",
    "With the mimic dict, it's fairly easy to emit random text that mimics the original. Print a word, then look up what words might come next and pick one at random as the next word.\n",
    "Sample output:\n",
    "```\n",
    "Alice's shoulder, and seemed to the same order,' continued the hall; but, after glaring at all the Mock Turtle: `crumbs would be a good opportunity of authority over the Mouse. `--I proceed. \"Edwin and she came a child!' said the Gryphon: and all round it, and sharks are all over the King replied. `Yes, please do!' said nothing. `When I'M a whisper, half no right distance--but then Alice,\n",
    "```"
   ]
  },
  {
   "cell_type": "code",
   "execution_count": null,
   "metadata": {},
   "outputs": [],
   "source": [
    "import random\n",
    "import sys"
   ]
  },
  {
   "cell_type": "code",
   "execution_count": null,
   "metadata": {},
   "outputs": [],
   "source": [
    "def create_mimic_dict(filename):\n",
    "    \"\"\"Returns mimic dict mapping each word to list of words which follow it.\"\"\"\n",
    "    raise NotImplementedError('Get Busy!')"
   ]
  },
  {
   "cell_type": "code",
   "execution_count": null,
   "metadata": {},
   "outputs": [],
   "source": [
    "def print_mimic(filename):\n",
    "    \"\"\"Given mimic dict and start word, prints 200 random words.\"\"\"\n",
    "    word_dict = create_mimic_dict(filename)\n",
    "    raise NotImplementedError('Get Busy!')"
   ]
  },
  {
   "cell_type": "markdown",
   "metadata": {},
   "source": [
    "## Now let us test our mimic functions!"
   ]
  },
  {
   "cell_type": "code",
   "execution_count": null,
   "metadata": {},
   "outputs": [],
   "source": [
    "infile = 'alice.txt'\n",
    "print_mimic(infile)"
   ]
  },
  {
   "cell_type": "code",
   "execution_count": null,
   "metadata": {},
   "outputs": [],
   "source": []
  }
 ],
 "metadata": {
  "kernelspec": {
   "display_name": "Python 2",
   "language": "python",
   "name": "python2"
  },
  "language_info": {
   "codemirror_mode": {
    "name": "ipython",
    "version": 2
   },
   "file_extension": ".py",
   "mimetype": "text/x-python",
   "name": "python",
   "nbconvert_exporter": "python",
   "pygments_lexer": "ipython2",
   "version": "2.7.15"
  }
 },
 "nbformat": 4,
 "nbformat_minor": 2
}
