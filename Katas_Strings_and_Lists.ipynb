{
 "cells": [
  {
   "cell_type": "markdown",
   "metadata": {},
   "source": [
    "<table border=\"0\" align=\"left\" width=\"700\" height=\"144\">\n",
    "<tbody>\n",
    "<tr>\n",
    "<td width=\"120\"><img width=\"100\" src=\"https://static1.squarespace.com/static/5992c2c7a803bb8283297efe/t/59c803110abd04d34ca9a1f0/1530629279239/\" /></td>\n",
    "<td style=\"width: 600px; height: 67px;\">\n",
    "<h1 style=\"text-align: left;\">Katas -- Strings and Lists</h1>\n",
    "<p><a href=\"https://colab.research.google.com/github/KenzieAcademy/python-notebooks/blob/master/Katas_Strings_and_Lists.ipynb\"> <img src=\"https://colab.research.google.com/assets/colab-badge.svg\" alt=\"Open In Colab\" align=\"left\" width=\"188\" height=\"32\" /> </a></p>\n",
    "</td>\n",
    "</tr>\n",
    "</tbody>\n",
    "</table>"
   ]
  },
  {
   "cell_type": "markdown",
   "metadata": {},
   "source": [
    "## Instructions\n",
    "\n",
    "**Use SHIFT+ENTER to run each cell.**\n",
    "These exercises use a tool called Juptyer Notebook. Here are some quick guidelines:\n",
    "\n",
    "- Each block of python code is called a cell.\n",
    "- You are running an actual python program, cell-by-cell.\n",
    "- You can edit and re-run the code cells in place without overwriting the original notebook.\n",
    "- Don't worry about the `In [x]:` or `Out [y]:` notations on the left margin.\n",
    "- Variables are remembered between cells.\n",
    "- Don't worry about formatting your output to print everything on a single line.\n",
    "\n",
    "\n",
    "## Submitting your work\n",
    "- Add your python code into each cell to complete the kata.\n",
    "- Select **File -> Download as -> Python (.py)** and save to your local machine.\n",
    "- Submit your .py file into the assignment upload window.\n",
    "- Bonus Pts: Try the same exercises using List Comprehensions. Submit a second .py file.\n",
    "\n"
   ]
  },
  {
   "cell_type": "markdown",
   "metadata": {},
   "source": [
    "### Let us begin.."
   ]
  },
  {
   "cell_type": "code",
   "execution_count": null,
   "metadata": {},
   "outputs": [],
   "source": [
    "# Declare a few variables to work with\n",
    "# Oh and .. 'got' means 'Game of Thrones', 'lotr' means 'Lord of The Rings'\n",
    "\n",
    "got_cities = \"King's Landing,Braavos,Volantis,Old Valyria,Free Cities,Qarth,Meereen\"\n",
    "lotr_cities = [\"Mordor\", \"Gondor\", \"Rohan\", \"Beleriand\", \"Mirkwood\", \"Dead Marshes\", \"Rhun\", \"Harad\"]\n",
    "best_thing = \"The best thing about a boolean is even if you are wrong you are only off by a bit\""
   ]
  },
  {
   "cell_type": "markdown",
   "metadata": {},
   "source": [
    "Display a list of the cities in `got_cities`.  Expected output:\n",
    "```console\n",
    "[\"King's Landing\", 'Braavos', 'Volantis', 'Old Valyria', 'Free Cities', 'Qarth', 'Meereen']\n",
    "```"
   ]
  },
  {
   "cell_type": "code",
   "execution_count": null,
   "metadata": {},
   "outputs": [],
   "source": [
    "print('1. Cities in got_cities:')\n",
    "# Your code goes here"
   ]
  },
  {
   "cell_type": "markdown",
   "metadata": {},
   "source": [
    "Display a list of words from the sentence in `best_thing`.  Example output:\n",
    "```console\n",
    "['The', 'best', 'thing', 'about', 'a', 'boolean', 'is', 'even', 'if', 'you', 'are', 'wrong', 'you', 'are', 'only', 'off', 'by', 'a', 'bit']\n",
    "```"
   ]
  },
  {
   "cell_type": "code",
   "execution_count": null,
   "metadata": {},
   "outputs": [],
   "source": [
    "print('2. A list of words from the sentence in best_thing:')\n",
    "# Your code goes here"
   ]
  },
  {
   "cell_type": "markdown",
   "metadata": {},
   "source": [
    "Display the `got_cities` as string separated by semi-colons `;` instead of commas, e.g.\n",
    "```\n",
    "King's Landing;Braavos;Volantis;Old Valyria;Free Cities;Qarth;Meereen\n",
    "```"
   ]
  },
  {
   "cell_type": "code",
   "execution_count": null,
   "metadata": {},
   "outputs": [],
   "source": [
    "print('3. A string separated by semi-colons instead of commas from got_cities:')\n",
    "# Your code goes here"
   ]
  },
  {
   "cell_type": "markdown",
   "metadata": {},
   "source": [
    "Display a single CSV (Comma-Separated Values) string from the `lotr_cities` list.  Example output:\n",
    "```\n",
    "Mordor,Gondor,Rohan,Beleriand,Mirkwood,Dead Marshes,Rhun,Harad\n",
    "```"
   ]
  },
  {
   "cell_type": "code",
   "execution_count": null,
   "metadata": {},
   "outputs": [],
   "source": [
    "print('4. A CSV (comma-separated values) string from the lotr_cities:')\n",
    "# Your code goes here"
   ]
  },
  {
   "cell_type": "markdown",
   "metadata": {},
   "source": [
    "Display only the first 5 cities in `lotr_cities` like this:\n",
    "```\n",
    "['Mordor', 'Gondor', 'Rohan', 'Beleriand', 'Mirkwood']\n",
    "```"
   ]
  },
  {
   "cell_type": "code",
   "execution_count": null,
   "metadata": {},
   "outputs": [],
   "source": [
    "print('5. The first 5 cities in lotr_cities:')\n",
    "# Your code goes here"
   ]
  },
  {
   "cell_type": "markdown",
   "metadata": {},
   "source": [
    "Display the last 5 cities in `lotr_cities` like this:\n",
    "```\n",
    "['Beleriand', 'Mirkwood', 'Dead Marshes', 'Rhun', 'Harad']\n",
    "```"
   ]
  },
  {
   "cell_type": "code",
   "execution_count": null,
   "metadata": {},
   "outputs": [],
   "source": [
    "print('6. The last 5 cities in lotr_cities:')\n",
    "# Your code goes here"
   ]
  },
  {
   "cell_type": "markdown",
   "metadata": {},
   "source": [
    "Display the 3rd to 5th city in `lotr_cities`:\n",
    "```\n",
    "['Rohan', 'Beleriand', 'Mirkwood']\n",
    "```"
   ]
  },
  {
   "cell_type": "code",
   "execution_count": null,
   "metadata": {},
   "outputs": [],
   "source": [
    "print('7. 3rd to 5th city in lotr_cities:')\n",
    "# Your code goes here"
   ]
  },
  {
   "cell_type": "markdown",
   "metadata": {},
   "source": [
    "Using Python built-in methods, remove `Rohan` from `lotr_cities`:\n",
    "```\n",
    "['Mordor', 'Gondor', 'Beleriand', 'Mirkwood', 'Dead Marshes', 'Rhun', 'Harad']\n",
    "```"
   ]
  },
  {
   "cell_type": "code",
   "execution_count": null,
   "metadata": {},
   "outputs": [],
   "source": [
    "print('8. lotr_cities w/o \"Rohan\":')\n",
    "# Your code goes here"
   ]
  },
  {
   "cell_type": "markdown",
   "metadata": {},
   "source": [
    "Using Python built-in methods, remove all cities after `Dead Marshes` in `lotr_cities`:\n",
    "```\n",
    "['Mordor', 'Gondor', 'Beleriand', 'Mirkwood', 'Dead Marshes']\n",
    "```"
   ]
  },
  {
   "cell_type": "code",
   "execution_count": null,
   "metadata": {},
   "outputs": [],
   "source": [
    "print('9. lotr_cities with cities after \"Dead Marshes\" removed')\n",
    "# Your code goes here"
   ]
  },
  {
   "cell_type": "markdown",
   "metadata": {},
   "source": [
    "Using built-in methods, insert \"Rohan\" back into `lotr_cities` right after \"Gondor\":\n",
    "```\n",
    "['Mordor', 'Gondor', 'Rohan', 'Beleriand', 'Mirkwood', 'Dead Marshes']\n",
    "```"
   ]
  },
  {
   "cell_type": "code",
   "execution_count": null,
   "metadata": {},
   "outputs": [],
   "source": [
    "print('10. lotr_cities w/ \"Rohan\" added back in after \"Gondor\"')\n",
    "# Your code goes here"
   ]
  },
  {
   "cell_type": "markdown",
   "metadata": {},
   "source": [
    "Using built-in methods, rename \"Dead Marshes\" to \"Deadest Marshes\" in `lotr_cities`:\n",
    "```\n",
    "['Mordor', 'Gondor', 'Rohan', 'Beleriand', 'Mirkwood', 'Deadest Marshes']\n",
    "```"
   ]
  },
  {
   "cell_type": "code",
   "execution_count": null,
   "metadata": {},
   "outputs": [],
   "source": [
    "print('11. lotr_cities w/ \"Dead Marshes\" renamed to \"Deadest Marshes:')\n",
    "# Your code goes here"
   ]
  },
  {
   "cell_type": "markdown",
   "metadata": {},
   "source": [
    "Using indexing and slicing methods, display the first 14 characters from `best_thing`:\n",
    "```\n",
    "'The best thing'\n",
    "```"
   ]
  },
  {
   "cell_type": "code",
   "execution_count": null,
   "metadata": {},
   "outputs": [],
   "source": [
    "print('12. The first 14 characters from best_thing:')\n",
    "# Your code goes here"
   ]
  },
  {
   "cell_type": "markdown",
   "metadata": {},
   "source": [
    "Using indexing and slicing methods, display the last 12 characters from `best_thing`:\n",
    "```\n",
    "'off by a bit'\n",
    "```"
   ]
  },
  {
   "cell_type": "code",
   "execution_count": null,
   "metadata": {},
   "outputs": [],
   "source": [
    "print('13. The last 12 characters from best_thing:')\n",
    "# Your code goes here"
   ]
  },
  {
   "cell_type": "markdown",
   "metadata": {},
   "source": [
    "Using indexing methods, display characters between the 23rd and 38th position of `best_thing`:\n",
    "```\n",
    "'boolean is even'\n",
    "```"
   ]
  },
  {
   "cell_type": "code",
   "execution_count": null,
   "metadata": {},
   "outputs": [],
   "source": [
    "print('14. Characters between the 23rd and 38th position of best_thing:')\n",
    "# Your code goes here"
   ]
  },
  {
   "cell_type": "markdown",
   "metadata": {},
   "source": [
    "Using built-in string methods, find and display the index of \"only\" in `best_thing`:\n",
    "```\n",
    "64\n",
    "```"
   ]
  },
  {
   "cell_type": "code",
   "execution_count": null,
   "metadata": {},
   "outputs": [],
   "source": [
    "print('15. The index of \"only\" in best_thing:')\n",
    "# Your code goes here"
   ]
  },
  {
   "cell_type": "markdown",
   "metadata": {},
   "source": [
    "Find and display the index of the last word in `best_thing`:\n",
    "```\n",
    "78\n",
    "```"
   ]
  },
  {
   "cell_type": "code",
   "execution_count": null,
   "metadata": {},
   "outputs": [],
   "source": [
    "print('16. The index of the last word in best_thing')\n",
    "# Your code goes here"
   ]
  },
  {
   "cell_type": "markdown",
   "metadata": {},
   "source": [
    "Find and display all cities from `got_cities` that use double vowels (\"aa\",\"ee\", etc.)\n",
    "```\n",
    "['Braavos', 'Free Cities', 'Meereen']\n",
    "```"
   ]
  },
  {
   "cell_type": "code",
   "execution_count": null,
   "metadata": {},
   "outputs": [],
   "source": [
    "print('17. All cities from got_cities that use double vowels:')\n",
    "# Your code goes here"
   ]
  },
  {
   "cell_type": "markdown",
   "metadata": {},
   "source": [
    "Find and display all cities from `lotr_cities` that end with \"or\"\n",
    "```\n",
    "['Mordor', 'Gondor']\n",
    "```"
   ]
  },
  {
   "cell_type": "code",
   "execution_count": null,
   "metadata": {},
   "outputs": [],
   "source": [
    "print('18. All cities from lotr_cities that end with \"or\":')\n",
    "# Your code goes here"
   ]
  },
  {
   "cell_type": "markdown",
   "metadata": {},
   "source": [
    "Find and display all the words in `best_thing` that start with a \"b\"\n",
    "```\n",
    "['best', 'boolean', 'by', 'bit']\n",
    "```"
   ]
  },
  {
   "cell_type": "code",
   "execution_count": null,
   "metadata": {},
   "outputs": [],
   "source": [
    "print('19. All the words in best_thing that start with a \"b\":')\n",
    "# Your code goes here"
   ]
  },
  {
   "cell_type": "markdown",
   "metadata": {},
   "source": [
    "Display \"Yes\" or \"No\" if `lotr_cities` includes the string \"Mirkwood\""
   ]
  },
  {
   "cell_type": "code",
   "execution_count": null,
   "metadata": {},
   "outputs": [],
   "source": [
    "print('20. Does lotr_cities include \"Mirkwood\"?:')\n",
    "# Your code goes here"
   ]
  },
  {
   "cell_type": "markdown",
   "metadata": {},
   "source": [
    "Display \"Yes\" or \"No\" if `lotr_cities` includes the string \"Hollywood\""
   ]
  },
  {
   "cell_type": "code",
   "execution_count": null,
   "metadata": {},
   "outputs": [],
   "source": [
    "print('21. Does lotr_cities include \"Hollywood\"?:')\n",
    "# Your code goes here"
   ]
  },
  {
   "cell_type": "markdown",
   "metadata": {},
   "source": [
    "Display the index of \"Mirkwood\" in `lotr_cities`\n",
    "```\n",
    "4\n",
    "```"
   ]
  },
  {
   "cell_type": "code",
   "execution_count": null,
   "metadata": {},
   "outputs": [],
   "source": [
    "print('22. The index of \"Mirkwood\" in lotr_cities:')\n",
    "# Your code goes here"
   ]
  },
  {
   "cell_type": "markdown",
   "metadata": {},
   "source": [
    "Find and display the first city in `lotr_cities` that has more than one word"
   ]
  },
  {
   "cell_type": "code",
   "execution_count": null,
   "metadata": {},
   "outputs": [],
   "source": [
    "print('23. The first city in lotr_cities that has more than one word:')\n",
    "# Your code goes here"
   ]
  },
  {
   "cell_type": "markdown",
   "metadata": {},
   "source": [
    "Reverse the order of list elements in `lotr_cities` (not the city names)\n",
    "```\n",
    "['Harad', 'Rhun', 'Dead Marshes', 'Mirkwood', 'Beleriand', 'Gondor', 'Rohan', 'Rohan', 'Mordor']\n",
    "```"
   ]
  },
  {
   "cell_type": "code",
   "execution_count": null,
   "metadata": {},
   "outputs": [],
   "source": [
    "print('24. lotr_cities reversed:')\n",
    "# Your code goes here"
   ]
  },
  {
   "cell_type": "markdown",
   "metadata": {},
   "source": [
    "Sort `lotr_cities` alphabetically\n",
    "```\n",
    "['Beleriand', 'Dead Marshes', 'Gondor', 'Harad', 'Mirkwood', 'Mordor', 'Rhun', 'Rohan', 'Rohan']\n",
    "```"
   ]
  },
  {
   "cell_type": "code",
   "execution_count": null,
   "metadata": {},
   "outputs": [],
   "source": [
    "print('25. lotr_cities sorted alphabetically:')\n",
    "# Your code goes here"
   ]
  },
  {
   "cell_type": "markdown",
   "metadata": {},
   "source": [
    "Sort `lotr_cities` by the number of characters in each city (i.e., shortest city to longest city\n",
    "```\n",
    "['Rhun', 'Rohan', 'Rohan', 'Harad', 'Mordor', 'Gondor', 'Mirkwood', 'Beleriand', 'Dead Marshes']\n",
    "```"
   ]
  },
  {
   "cell_type": "code",
   "execution_count": null,
   "metadata": {},
   "outputs": [],
   "source": [
    "print('26. lotr_cities sorted by the number of characters in each city:')\n",
    "# Your code goes here"
   ]
  },
  {
   "cell_type": "markdown",
   "metadata": {},
   "source": [
    "Using Python built-in methods, remove the last city from `lotr_cities`"
   ]
  },
  {
   "cell_type": "code",
   "execution_count": null,
   "metadata": {},
   "outputs": [],
   "source": [
    "print('27. lotr_cities w/o last city:')\n",
    "# Your code goes here"
   ]
  },
  {
   "cell_type": "markdown",
   "metadata": {},
   "source": [
    "Using built-in methods, add back the city from `lotr_cities` that was removed in #27 to the end of the list"
   ]
  },
  {
   "cell_type": "code",
   "execution_count": null,
   "metadata": {},
   "outputs": [],
   "source": [
    "print('28. lotr_cities w/ last city:')\n",
    "# Your code goes here"
   ]
  },
  {
   "cell_type": "markdown",
   "metadata": {},
   "source": [
    "Using Python built-in methods, remove the first city from `lotr_cities`"
   ]
  },
  {
   "cell_type": "code",
   "execution_count": null,
   "metadata": {},
   "outputs": [],
   "source": [
    "print('29. lotr_cities w/o first city:')\n",
    "# Your code goes here"
   ]
  },
  {
   "cell_type": "markdown",
   "metadata": {},
   "source": [
    "Using built-in methods, add back the city from `lotr_cities` that was removed in #29 to the front of the list"
   ]
  },
  {
   "cell_type": "code",
   "execution_count": null,
   "metadata": {},
   "outputs": [],
   "source": [
    "print('30. lotr_cities w/ first city:')\n",
    "# Your code goes here"
   ]
  },
  {
   "cell_type": "markdown",
   "metadata": {},
   "source": [
    "## NICE JOB!  You are done ... Download/save this notebook as a .py file and submit!"
   ]
  },
  {
   "cell_type": "markdown",
   "metadata": {},
   "source": [
    "_This kata prepared by: C1.PeterMarsh"
   ]
  }
 ],
 "metadata": {
  "kernelspec": {
   "display_name": "Python 2",
   "language": "python",
   "name": "python2"
  },
  "language_info": {
   "codemirror_mode": {
    "name": "ipython",
    "version": 2
   },
   "file_extension": ".py",
   "mimetype": "text/x-python",
   "name": "python",
   "nbconvert_exporter": "python",
   "pygments_lexer": "ipython2",
   "version": "2.7.15"
  }
 },
 "nbformat": 4,
 "nbformat_minor": 2
}
