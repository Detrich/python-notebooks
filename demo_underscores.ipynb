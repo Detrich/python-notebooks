{
 "cells": [
  {
   "cell_type": "markdown",
   "metadata": {},
   "source": [
    "<table border=\"0\" align=\"left\" width=\"700\" height=\"144\">\n",
    "<tbody>\n",
    "<tr>\n",
    "<td width=\"120\"><img width=\"100\" src=\"https://static1.squarespace.com/static/5992c2c7a803bb8283297efe/t/59c803110abd04d34ca9a1f0/1530629279239/\" /></td>\n",
    "<td style=\"width: 600px; height: 67px;\">\n",
    "<h1 style=\"text-align: left;\">`__Dunderscores__`</h1>\n",
    "<p><a href=\"https://colab.research.google.com/github/KenzieAcademy/python-notebooks/blob/master/demo_underscores.ipynb\"> <img src=\"https://colab.research.google.com/assets/colab-badge.svg\" alt=\"Open In Colab\" align=\"left\" width=\"188\" height=\"32\" /> </a></p>\n",
    "</td>\n",
    "</tr>\n",
    "</tbody>\n",
    "</table>"
   ]
  },
  {
   "cell_type": "markdown",
   "metadata": {},
   "source": [
    "Excerpted from “Python Tricks: The Book.” by Dan Bader and also from https://dbader.org/blog/meaning-of-underscores-in-python"
   ]
  },
  {
   "cell_type": "markdown",
   "metadata": {},
   "source": [
    "Single and double underscores have a meaning in Python variable and method names. Some of that meaning is merely by convention and intended as a hint to the programmer—and some of it is enforced by the Python interpreter.\n",
    "\n",
    "There are five patterns and naming conventions, and they DO affect the behavior of your python programs.\n",
    " - Single Leading Underscore: `_var`\n",
    " - Single Trailing Underscore: `var_`\n",
    " - Double Leading Underscore: `__var`\n",
    " - Double Leading and Trailing Underscore: `__var__`\n",
    " - Single Underscore: `_`\n",
    "\n",
    "It is useful to know these conventions when you are reviewing others' code."
   ]
  },
  {
   "cell_type": "markdown",
   "metadata": {},
   "source": [
    "## Single Leading Underscore: `_var`: \"Internal Use Only\"\n",
    "\n",
    "The single underscore prefixx of a variable name is by Python convention only.  It is a hint to the programmer, but does not affect the behavior of a program.\n",
    "\n",
    "The underscore prefix means that a variable or function is intended for internal use. This convention is defined in [PEP 8](https://www.python.org/dev/peps/pep-0008/#id36).\n",
    "\n",
    "This convention is NOT enforced by the Python interpreter, for example in the way that public and private variables are declared and enforced in Java or C++.  It is a hint from the programmer that the item is not really meant for public use.\n"
   ]
  },
  {
   "cell_type": "code",
   "execution_count": null,
   "metadata": {},
   "outputs": [],
   "source": [
    "class Test:\n",
    "    def __init__(self):\n",
    "        self.foo = 11\n",
    "        self._bar = 23\n",
    "\n",
    "# t = Test()\n",
    "print(Test().foo)\n",
    "print(Test()._bar)"
   ]
  },
  {
   "cell_type": "markdown",
   "metadata": {},
   "source": [
    "As you can see, the leading single underscore in `_bar` did not prevent us from “reaching into” the class and accessing the value of that variable.\n",
    "\n",
    "The single underscore prefix in Python is merely an agreed-upon convention. BUT -- What happens if we try to import a underscore function from a module?"
   ]
  },
  {
   "cell_type": "code",
   "execution_count": null,
   "metadata": {},
   "outputs": [],
   "source": [
    "# paste this into a module.py\n",
    "# def external_func():\n",
    "#     return 23\n",
    "# def _internal_func():\n",
    "#     return 42\n",
    "\n",
    "from module import *\n",
    "print(external_func())\n",
    "print(_internal_func())\n"
   ]
  },
  {
   "cell_type": "markdown",
   "metadata": {},
   "source": [
    "Wildcard imports should be avoided as they make it unclear which names are present in the namespace. It’s better to stick to regular imports for the sake of clarity. Unlike wildcard imports, regular imports are not affected by the leading single underscore naming convention\n"
   ]
  },
  {
   "cell_type": "code",
   "execution_count": null,
   "metadata": {},
   "outputs": [],
   "source": [
    "import module\n",
    "print(module.external_func())\n",
    "print(module._internal_func())"
   ]
  },
  {
   "cell_type": "markdown",
   "metadata": {},
   "source": [
    "##  Single Trailing Underscore: `var_`\n",
    "\n",
    "Sometimes the most fitting name for a variable is already taken by a keyword in the Python language. Therefore, names like `class` or `def` or `list` cannot be used as variable names in Python. In this case, you can append a single underscore to break the naming conflict.\n"
   ]
  },
  {
   "cell_type": "code",
   "execution_count": null,
   "metadata": {},
   "outputs": [],
   "source": [
    "def make_object(name, list):\n",
    "    pass\n",
    "\n",
    "def make_object(name, list_):\n",
    "    pass"
   ]
  },
  {
   "cell_type": "markdown",
   "metadata": {},
   "source": [
    "## Double Leading Underscore: `__var`\n",
    "\n",
    "The naming patterns we’ve covered so far receive their meaning from agreed-upon conventions only. With Python class attributes (variables and methods) that start with double underscores, things are a little different.\n",
    "\n",
    "A double underscore prefix causes the Python interpreter to rewrite the attribute name in order to avoid naming conflicts in subclasses.  This is called _name-mangling_.  The interpreter changes the name of the variable in a way that makes it harder to create collisions when the class is extended later."
   ]
  },
  {
   "cell_type": "code",
   "execution_count": null,
   "metadata": {},
   "outputs": [],
   "source": [
    "class Test:\n",
    "    def __init__(self):\n",
    "        self.foo = 11\n",
    "        self._bar = 23\n",
    "        self.__baz = 42\n"
   ]
  },
  {
   "cell_type": "code",
   "execution_count": null,
   "metadata": {},
   "outputs": [],
   "source": [
    "t = Test()\n",
    "dir(t)"
   ]
  },
  {
   "cell_type": "markdown",
   "metadata": {},
   "source": [
    "This gives us a list with the object’s attributes. Let’s take this list and look for our original variable names `foo`, `_bar`, and `__baz`. \n",
    "\n",
    " - `self.foo` variable appears unmodified as `foo` in the attribute list.\n",
    " - `self._bar` behaves the same way — it shows up on the class as `_bar`.\n",
    "\n",
    "### What happened to poor __baz?\n",
    "\n",
    "There’s an attribute called `_Test__baz` on this object. This is the name mangling that the Python interpreter applies. It does this to protect the variable from getting overridden in subclasses."
   ]
  },
  {
   "cell_type": "code",
   "execution_count": null,
   "metadata": {},
   "outputs": [],
   "source": [
    "# Let's extend the Test class and override the attributes\n",
    "class ExtendedTest(Test):\n",
    "    def __init__(self):\n",
    "        super().__init__()\n",
    "        self.foo = 'overridden'\n",
    "        self._bar = 'overridden'\n",
    "        self.__baz = 'overridden'"
   ]
  },
  {
   "cell_type": "code",
   "execution_count": null,
   "metadata": {},
   "outputs": [],
   "source": [
    "et = ExtendedTest()\n",
    "print(et.foo)\n",
    "print(et._bar)\n",
    "print(et.__baz)"
   ]
  },
  {
   "cell_type": "code",
   "execution_count": null,
   "metadata": {},
   "outputs": [],
   "source": [
    "class ManglingTest:\n",
    "    def __init__(self):\n",
    "        self.__mangled = \"help I've been mangled!\"\n",
    "\n",
    "    def get_mangled(self):\n",
    "        return self.__mangled\n",
    "\n",
    "mt = ManglingTest()\n",
    "mt.get_mangled()\n",
    "mt.__mangled\n"
   ]
  },
  {
   "cell_type": "markdown",
   "metadata": {},
   "source": [
    "Name mangling affects all names that start with two underscore characters (“dunders”) in a class context, even method names:"
   ]
  },
  {
   "cell_type": "code",
   "execution_count": null,
   "metadata": {},
   "outputs": [],
   "source": [
    "class MangledMethod:\n",
    "    def __method(self):\n",
    "        return \"Hello from mmmmangled __method\"\n",
    "\n",
    "    def call_it(self):\n",
    "        return self.__method()\n",
    "\n",
    "# Try to invoke it from the outside, with normal dotted notation\n",
    "MangledMethod().__method()\n"
   ]
  },
  {
   "cell_type": "code",
   "execution_count": null,
   "metadata": {},
   "outputs": [],
   "source": [
    "# Only works from inside the class itself!\n",
    "MangledMethod().call_it()"
   ]
  },
  {
   "cell_type": "markdown",
   "metadata": {},
   "source": [
    "## A bit of subversion\n"
   ]
  },
  {
   "cell_type": "code",
   "execution_count": null,
   "metadata": {},
   "outputs": [],
   "source": [
    "_MangledGlobal__mangled = 23\n",
    "\n",
    "class MangledGlobal:\n",
    "    def test(self):\n",
    "        # notice that we never even define this in class scope\n",
    "        return __mangled\n",
    "\n",
    "mg = MangledGlobal()\n",
    "print(mg.test())\n",
    "dir(locals())\n",
    "# Where is the _MangledGlobal__mangled context?"
   ]
  },
  {
   "cell_type": "markdown",
   "metadata": {},
   "source": [
    "This demonstrated that name mangling isn’t tied to class attributes specifically. It applies to any name starting with two underscore characters used in a class context."
   ]
  },
  {
   "cell_type": "markdown",
   "metadata": {},
   "source": [
    "## Double Leading and Trailing Underscore: `__var__`\n",
    "Name mangling _is not_ applied if a name starts and ends with double underscores. Variables surrounded by a double underscore prefix and postfix are left unscathed by the Python interpeter.\n",
    "Rule of thumb: Don't use this naming method for your own variables.  It's reserved for special use within the Python language itself."
   ]
  },
  {
   "cell_type": "code",
   "execution_count": null,
   "metadata": {},
   "outputs": [],
   "source": [
    "class LeadingTrailingDunder:\n",
    "    def __init__(self):\n",
    "        self.__my_own_dunder__ = 1234\n",
    "\n",
    "LeadingTrailingDunder().__my_own_dunder__"
   ]
  },
  {
   "cell_type": "markdown",
   "metadata": {},
   "source": [
    "## Single Underscore: `_`\n",
    "Per convention, a single standalone underscore is sometimes used as a name to indicate that a variable is temporary or insignificant.\n",
    "\n",
    "For example, in the following loop we don’t need access to the running index and we can use `_` to indicate that it is just a temporary value"
   ]
  },
  {
   "cell_type": "code",
   "execution_count": null,
   "metadata": {},
   "outputs": [],
   "source": [
    "for _ in range(5):\n",
    "    print(\"waiting ...\")"
   ]
  },
  {
   "cell_type": "markdown",
   "metadata": {},
   "source": [
    "You can also use single underscores in unpacking expressions as a “don’t care” variable to ignore particular values. Again, this meaning is “per convention” only and there’s no special behavior triggered in the Python interpreter. The single underscore is simply a valid variable name that’s sometimes used for this purpose.\n",
    "\n",
    "In the following code example I’m unpacking a car tuple into separate variables but I’m only interested in the values for color and mileage. However, in order for the unpacking expression to succeed I need to assign all values contained in the tuple to variables. That’s where “_” is useful as a placeholder variable"
   ]
  },
  {
   "cell_type": "code",
   "execution_count": null,
   "metadata": {},
   "outputs": [],
   "source": [
    "car = ('red', 'auto', 12, 3812.4)\n",
    "color, _, _, mileage = car\n",
    "\n",
    "print(color)\n",
    "print(mileage)\n"
   ]
  },
  {
   "cell_type": "markdown",
   "metadata": {},
   "source": [
    "## Conclusion\n",
    "A handy cheat sheet\n",
    "\n",
    "|Pattern  |Example  |Meaning |   |   |\n",
    "|---|---|---|---|---|\n",
    "|Single Leading Underscore   | `_var`  | Naming convention indicating a name is meant for internal use. Generally not enforced by the Python interpreter (except in wildcard imports) and meant as a hint to the programmer only.  |   |   |\n",
    "|Single Trailing Underscore   |`var_`   |Used by convention to avoid naming conflicts with Python keywords.  |   |   |\n",
    "|Double Leading Underscore   |`__var`   | Triggers name mangling when used in a class context. Enforced by the Python interpreter.  |   |   |\n",
    "|Double Leading and Trailing Underscore  |`__var__`   |Indicates special methods defined by the Python language. Avoid this naming scheme for your own attributes.   |   |   |\n",
    "|Single Underscore   |`_`   |Sometimes used as a name for temporary or insignificant variables (“don’t care”). Also: The result of the last expression in a Python REPL.   |   |   |\n",
    "\t\t"
   ]
  }
 ],
 "metadata": {
  "kernelspec": {
   "display_name": "Python 3",
   "language": "python",
   "name": "python3"
  },
  "language_info": {
   "codemirror_mode": {
    "name": "ipython",
    "version": 3
   },
   "file_extension": ".py",
   "mimetype": "text/x-python",
   "name": "python",
   "nbconvert_exporter": "python",
   "pygments_lexer": "ipython3",
   "version": "3.7.3"
  }
 },
 "nbformat": 4,
 "nbformat_minor": 2
}
